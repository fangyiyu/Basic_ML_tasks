{
  "nbformat": 4,
  "nbformat_minor": 0,
  "metadata": {
    "colab": {
      "name": "wine_classification_DNN.ipynb",
      "provenance": [],
      "authorship_tag": "ABX9TyNVlnkfg45nOe5FKeYS7Cbp",
      "include_colab_link": true
    },
    "kernelspec": {
      "name": "python3",
      "display_name": "Python 3"
    }
  },
  "cells": [
    {
      "cell_type": "markdown",
      "metadata": {
        "id": "view-in-github",
        "colab_type": "text"
      },
      "source": [
        "<a href=\"https://colab.research.google.com/github/fangyiyu/auto_mpg/blob/main/wine_classification_DNN.ipynb\" target=\"_parent\"><img src=\"https://colab.research.google.com/assets/colab-badge.svg\" alt=\"Open In Colab\"/></a>"
      ]
    },
    {
      "cell_type": "code",
      "metadata": {
        "id": "3HIWs6QUycox"
      },
      "source": [
        "# Import Required Libraries  \n",
        "import matplotlib.pyplot as plt \n",
        "import pandas as pd \n",
        "import numpy as np\n",
        "import tensorflow as tf\n",
        "from sklearn.preprocessing import StandardScaler\n",
        "from sklearn.model_selection import train_test_split \n",
        "\n",
        "from tensorflow import keras\n",
        "from tensorflow.keras import layers\n",
        "from tensorflow.keras.layers.experimental import preprocessing"
      ],
      "execution_count": 1,
      "outputs": []
    },
    {
      "cell_type": "code",
      "metadata": {
        "id": "H4p42_8zGT0p",
        "outputId": "b671e722-5e80-42cd-8f0e-66eb35db2a17",
        "colab": {
          "base_uri": "https://localhost:8080/",
          "height": 221
        }
      },
      "source": [
        "# read data\n",
        "column_names = ['class', 'Alcohol', 'Malic acid', 'Ash', 'Alcalinity of ash', 'Magnesium', 'Total phenols', 'Flavanoids', 'Nonflavanoid phenols', 'Proanthocyanins', 'Color intensity', 'Hue', 'OD280/OD315 of diluted wines', 'Proline']\n",
        "wine_data = pd.read_csv(\"http://archive.ics.uci.edu/ml/machine-learning-databases/wine/wine.data\", names=column_names, sep =',') \n",
        "wine_data.tail()"
      ],
      "execution_count": 2,
      "outputs": [
        {
          "output_type": "execute_result",
          "data": {
            "text/html": [
              "<div>\n",
              "<style scoped>\n",
              "    .dataframe tbody tr th:only-of-type {\n",
              "        vertical-align: middle;\n",
              "    }\n",
              "\n",
              "    .dataframe tbody tr th {\n",
              "        vertical-align: top;\n",
              "    }\n",
              "\n",
              "    .dataframe thead th {\n",
              "        text-align: right;\n",
              "    }\n",
              "</style>\n",
              "<table border=\"1\" class=\"dataframe\">\n",
              "  <thead>\n",
              "    <tr style=\"text-align: right;\">\n",
              "      <th></th>\n",
              "      <th>class</th>\n",
              "      <th>Alcohol</th>\n",
              "      <th>Malic acid</th>\n",
              "      <th>Ash</th>\n",
              "      <th>Alcalinity of ash</th>\n",
              "      <th>Magnesium</th>\n",
              "      <th>Total phenols</th>\n",
              "      <th>Flavanoids</th>\n",
              "      <th>Nonflavanoid phenols</th>\n",
              "      <th>Proanthocyanins</th>\n",
              "      <th>Color intensity</th>\n",
              "      <th>Hue</th>\n",
              "      <th>OD280/OD315 of diluted wines</th>\n",
              "      <th>Proline</th>\n",
              "    </tr>\n",
              "  </thead>\n",
              "  <tbody>\n",
              "    <tr>\n",
              "      <th>173</th>\n",
              "      <td>3</td>\n",
              "      <td>13.71</td>\n",
              "      <td>5.65</td>\n",
              "      <td>2.45</td>\n",
              "      <td>20.5</td>\n",
              "      <td>95</td>\n",
              "      <td>1.68</td>\n",
              "      <td>0.61</td>\n",
              "      <td>0.52</td>\n",
              "      <td>1.06</td>\n",
              "      <td>7.7</td>\n",
              "      <td>0.64</td>\n",
              "      <td>1.74</td>\n",
              "      <td>740</td>\n",
              "    </tr>\n",
              "    <tr>\n",
              "      <th>174</th>\n",
              "      <td>3</td>\n",
              "      <td>13.40</td>\n",
              "      <td>3.91</td>\n",
              "      <td>2.48</td>\n",
              "      <td>23.0</td>\n",
              "      <td>102</td>\n",
              "      <td>1.80</td>\n",
              "      <td>0.75</td>\n",
              "      <td>0.43</td>\n",
              "      <td>1.41</td>\n",
              "      <td>7.3</td>\n",
              "      <td>0.70</td>\n",
              "      <td>1.56</td>\n",
              "      <td>750</td>\n",
              "    </tr>\n",
              "    <tr>\n",
              "      <th>175</th>\n",
              "      <td>3</td>\n",
              "      <td>13.27</td>\n",
              "      <td>4.28</td>\n",
              "      <td>2.26</td>\n",
              "      <td>20.0</td>\n",
              "      <td>120</td>\n",
              "      <td>1.59</td>\n",
              "      <td>0.69</td>\n",
              "      <td>0.43</td>\n",
              "      <td>1.35</td>\n",
              "      <td>10.2</td>\n",
              "      <td>0.59</td>\n",
              "      <td>1.56</td>\n",
              "      <td>835</td>\n",
              "    </tr>\n",
              "    <tr>\n",
              "      <th>176</th>\n",
              "      <td>3</td>\n",
              "      <td>13.17</td>\n",
              "      <td>2.59</td>\n",
              "      <td>2.37</td>\n",
              "      <td>20.0</td>\n",
              "      <td>120</td>\n",
              "      <td>1.65</td>\n",
              "      <td>0.68</td>\n",
              "      <td>0.53</td>\n",
              "      <td>1.46</td>\n",
              "      <td>9.3</td>\n",
              "      <td>0.60</td>\n",
              "      <td>1.62</td>\n",
              "      <td>840</td>\n",
              "    </tr>\n",
              "    <tr>\n",
              "      <th>177</th>\n",
              "      <td>3</td>\n",
              "      <td>14.13</td>\n",
              "      <td>4.10</td>\n",
              "      <td>2.74</td>\n",
              "      <td>24.5</td>\n",
              "      <td>96</td>\n",
              "      <td>2.05</td>\n",
              "      <td>0.76</td>\n",
              "      <td>0.56</td>\n",
              "      <td>1.35</td>\n",
              "      <td>9.2</td>\n",
              "      <td>0.61</td>\n",
              "      <td>1.60</td>\n",
              "      <td>560</td>\n",
              "    </tr>\n",
              "  </tbody>\n",
              "</table>\n",
              "</div>"
            ],
            "text/plain": [
              "     class  Alcohol  Malic acid  ...   Hue  OD280/OD315 of diluted wines  Proline\n",
              "173      3    13.71        5.65  ...  0.64                          1.74      740\n",
              "174      3    13.40        3.91  ...  0.70                          1.56      750\n",
              "175      3    13.27        4.28  ...  0.59                          1.56      835\n",
              "176      3    13.17        2.59  ...  0.60                          1.62      840\n",
              "177      3    14.13        4.10  ...  0.61                          1.60      560\n",
              "\n",
              "[5 rows x 14 columns]"
            ]
          },
          "metadata": {
            "tags": []
          },
          "execution_count": 2
        }
      ]
    },
    {
      "cell_type": "code",
      "metadata": {
        "id": "51N4MOz6tCF0"
      },
      "source": [
        "# split features from labels and encode label\n",
        "X = wine_data.iloc[:, 1:] \n",
        "y = wine_data.iloc[:, 0] \n",
        "df_hotencoded = pd.get_dummies(y)"
      ],
      "execution_count": 3,
      "outputs": []
    },
    {
      "cell_type": "code",
      "metadata": {
        "id": "BN496_U9x0qb"
      },
      "source": [
        "# scale features\n",
        "sc = StandardScaler()\n",
        "X = sc.fit_transform(X)"
      ],
      "execution_count": 4,
      "outputs": []
    },
    {
      "cell_type": "code",
      "metadata": {
        "id": "Ruiuc6CNK2y_"
      },
      "source": [
        "# Splitting the dataset for training and validating  \n",
        "x_train, x_test, y_train, y_test = train_test_split( \n",
        "           X, df_hotencoded, test_size = 0.2, random_state = 45) "
      ],
      "execution_count": 5,
      "outputs": []
    },
    {
      "cell_type": "code",
      "metadata": {
        "id": "qaRYp6lZ1ZWi",
        "outputId": "2d2fb853-5fa1-4d27-e4d8-391b27881db3",
        "colab": {
          "base_uri": "https://localhost:8080/",
          "height": 34
        }
      },
      "source": [
        "(x_train.shape, x_test.shape, y_train.shape, y_test.shape)"
      ],
      "execution_count": 6,
      "outputs": [
        {
          "output_type": "execute_result",
          "data": {
            "text/plain": [
              "((142, 13), (36, 13), (142, 3), (36, 3))"
            ]
          },
          "metadata": {
            "tags": []
          },
          "execution_count": 6
        }
      ]
    },
    {
      "cell_type": "code",
      "metadata": {
        "id": "d1NwaGeSJnbV",
        "outputId": "965a9a86-a86d-4ce1-8ba6-de7fe21ec3b2",
        "colab": {
          "base_uri": "https://localhost:8080/",
          "height": 1000
        }
      },
      "source": [
        "# build model\n",
        "regular = 0.00001\n",
        "model = tf.keras.Sequential()\n",
        "model.add(layers.Dense(12, input_shape = (13, ), activation='relu',\n",
        "          kernel_regularizer = tf.keras.regularizers.l2(regular),\n",
        "          activity_regularizer = tf.keras.regularizers.l2(regular)))\n",
        "model.add(layers.Dense(8, activation = 'relu'))\n",
        "model.add(layers.Dense(16, activation = 'relu'))\n",
        "model.add(layers.Dense(32, activation = 'relu'))\n",
        "model.add(layers.Dropout(0.2))\n",
        "model.add(layers.Dense(3, activation = 'softmax'))\n",
        "\n",
        "model.compile(optimizer='Adam', loss='categorical_crossentropy', metrics=['accuracy'])\n",
        "\n",
        "hist = model.fit(x_train, y_train, epochs =50, validation_split=0.2) "
      ],
      "execution_count": 17,
      "outputs": [
        {
          "output_type": "stream",
          "text": [
            "Epoch 1/50\n",
            "4/4 [==============================] - 0s 42ms/step - loss: 1.0460 - accuracy: 0.3982 - val_loss: 1.0363 - val_accuracy: 0.3793\n",
            "Epoch 2/50\n",
            "4/4 [==============================] - 0s 6ms/step - loss: 1.0453 - accuracy: 0.4071 - val_loss: 1.0142 - val_accuracy: 0.3793\n",
            "Epoch 3/50\n",
            "4/4 [==============================] - 0s 6ms/step - loss: 1.0339 - accuracy: 0.4248 - val_loss: 0.9949 - val_accuracy: 0.3448\n",
            "Epoch 4/50\n",
            "4/4 [==============================] - 0s 6ms/step - loss: 1.0159 - accuracy: 0.4248 - val_loss: 0.9778 - val_accuracy: 0.3793\n",
            "Epoch 5/50\n",
            "4/4 [==============================] - 0s 5ms/step - loss: 0.9848 - accuracy: 0.4602 - val_loss: 0.9619 - val_accuracy: 0.4138\n",
            "Epoch 6/50\n",
            "4/4 [==============================] - 0s 5ms/step - loss: 0.9450 - accuracy: 0.4867 - val_loss: 0.9465 - val_accuracy: 0.4138\n",
            "Epoch 7/50\n",
            "4/4 [==============================] - 0s 6ms/step - loss: 0.9556 - accuracy: 0.4690 - val_loss: 0.9310 - val_accuracy: 0.4828\n",
            "Epoch 8/50\n",
            "4/4 [==============================] - 0s 6ms/step - loss: 0.9116 - accuracy: 0.5398 - val_loss: 0.9160 - val_accuracy: 0.5862\n",
            "Epoch 9/50\n",
            "4/4 [==============================] - 0s 6ms/step - loss: 0.9099 - accuracy: 0.5487 - val_loss: 0.9011 - val_accuracy: 0.6552\n",
            "Epoch 10/50\n",
            "4/4 [==============================] - 0s 6ms/step - loss: 0.8894 - accuracy: 0.5841 - val_loss: 0.8859 - val_accuracy: 0.6552\n",
            "Epoch 11/50\n",
            "4/4 [==============================] - 0s 6ms/step - loss: 0.8431 - accuracy: 0.6283 - val_loss: 0.8706 - val_accuracy: 0.6897\n",
            "Epoch 12/50\n",
            "4/4 [==============================] - 0s 6ms/step - loss: 0.8543 - accuracy: 0.6372 - val_loss: 0.8550 - val_accuracy: 0.6897\n",
            "Epoch 13/50\n",
            "4/4 [==============================] - 0s 6ms/step - loss: 0.8413 - accuracy: 0.6372 - val_loss: 0.8397 - val_accuracy: 0.7241\n",
            "Epoch 14/50\n",
            "4/4 [==============================] - 0s 7ms/step - loss: 0.8172 - accuracy: 0.6637 - val_loss: 0.8242 - val_accuracy: 0.7586\n",
            "Epoch 15/50\n",
            "4/4 [==============================] - 0s 6ms/step - loss: 0.7856 - accuracy: 0.6549 - val_loss: 0.8084 - val_accuracy: 0.7586\n",
            "Epoch 16/50\n",
            "4/4 [==============================] - 0s 6ms/step - loss: 0.7740 - accuracy: 0.6460 - val_loss: 0.7922 - val_accuracy: 0.7586\n",
            "Epoch 17/50\n",
            "4/4 [==============================] - 0s 7ms/step - loss: 0.7286 - accuracy: 0.6726 - val_loss: 0.7759 - val_accuracy: 0.7586\n",
            "Epoch 18/50\n",
            "4/4 [==============================] - 0s 6ms/step - loss: 0.7251 - accuracy: 0.6549 - val_loss: 0.7594 - val_accuracy: 0.7586\n",
            "Epoch 19/50\n",
            "4/4 [==============================] - 0s 5ms/step - loss: 0.7020 - accuracy: 0.6814 - val_loss: 0.7424 - val_accuracy: 0.7586\n",
            "Epoch 20/50\n",
            "4/4 [==============================] - 0s 6ms/step - loss: 0.6806 - accuracy: 0.7080 - val_loss: 0.7251 - val_accuracy: 0.7586\n",
            "Epoch 21/50\n",
            "4/4 [==============================] - 0s 7ms/step - loss: 0.6733 - accuracy: 0.7257 - val_loss: 0.7066 - val_accuracy: 0.7586\n",
            "Epoch 22/50\n",
            "4/4 [==============================] - 0s 5ms/step - loss: 0.6434 - accuracy: 0.7611 - val_loss: 0.6866 - val_accuracy: 0.7586\n",
            "Epoch 23/50\n",
            "4/4 [==============================] - 0s 6ms/step - loss: 0.6194 - accuracy: 0.7699 - val_loss: 0.6642 - val_accuracy: 0.7586\n",
            "Epoch 24/50\n",
            "4/4 [==============================] - 0s 5ms/step - loss: 0.6186 - accuracy: 0.7699 - val_loss: 0.6399 - val_accuracy: 0.8621\n",
            "Epoch 25/50\n",
            "4/4 [==============================] - 0s 6ms/step - loss: 0.5691 - accuracy: 0.8584 - val_loss: 0.6134 - val_accuracy: 0.9310\n",
            "Epoch 26/50\n",
            "4/4 [==============================] - 0s 6ms/step - loss: 0.5406 - accuracy: 0.8407 - val_loss: 0.5828 - val_accuracy: 0.9655\n",
            "Epoch 27/50\n",
            "4/4 [==============================] - 0s 5ms/step - loss: 0.5272 - accuracy: 0.8761 - val_loss: 0.5491 - val_accuracy: 0.9655\n",
            "Epoch 28/50\n",
            "4/4 [==============================] - 0s 7ms/step - loss: 0.4916 - accuracy: 0.8673 - val_loss: 0.5128 - val_accuracy: 0.9310\n",
            "Epoch 29/50\n",
            "4/4 [==============================] - 0s 7ms/step - loss: 0.4515 - accuracy: 0.8938 - val_loss: 0.4734 - val_accuracy: 0.9310\n",
            "Epoch 30/50\n",
            "4/4 [==============================] - 0s 6ms/step - loss: 0.4194 - accuracy: 0.9204 - val_loss: 0.4337 - val_accuracy: 0.9310\n",
            "Epoch 31/50\n",
            "4/4 [==============================] - 0s 5ms/step - loss: 0.4065 - accuracy: 0.8850 - val_loss: 0.3939 - val_accuracy: 0.9310\n",
            "Epoch 32/50\n",
            "4/4 [==============================] - 0s 5ms/step - loss: 0.3550 - accuracy: 0.9292 - val_loss: 0.3558 - val_accuracy: 0.8966\n",
            "Epoch 33/50\n",
            "4/4 [==============================] - 0s 6ms/step - loss: 0.3221 - accuracy: 0.9558 - val_loss: 0.3203 - val_accuracy: 0.8966\n",
            "Epoch 34/50\n",
            "4/4 [==============================] - 0s 6ms/step - loss: 0.2800 - accuracy: 0.9646 - val_loss: 0.2888 - val_accuracy: 0.8966\n",
            "Epoch 35/50\n",
            "4/4 [==============================] - 0s 6ms/step - loss: 0.2473 - accuracy: 0.9735 - val_loss: 0.2609 - val_accuracy: 0.8966\n",
            "Epoch 36/50\n",
            "4/4 [==============================] - 0s 5ms/step - loss: 0.2380 - accuracy: 0.9646 - val_loss: 0.2366 - val_accuracy: 0.9310\n",
            "Epoch 37/50\n",
            "4/4 [==============================] - 0s 5ms/step - loss: 0.1981 - accuracy: 0.9735 - val_loss: 0.2161 - val_accuracy: 0.9310\n",
            "Epoch 38/50\n",
            "4/4 [==============================] - 0s 5ms/step - loss: 0.1855 - accuracy: 0.9646 - val_loss: 0.1978 - val_accuracy: 0.9310\n",
            "Epoch 39/50\n",
            "4/4 [==============================] - 0s 6ms/step - loss: 0.1613 - accuracy: 0.9646 - val_loss: 0.1829 - val_accuracy: 0.9310\n",
            "Epoch 40/50\n",
            "4/4 [==============================] - 0s 6ms/step - loss: 0.1568 - accuracy: 0.9646 - val_loss: 0.1699 - val_accuracy: 0.9310\n",
            "Epoch 41/50\n",
            "4/4 [==============================] - 0s 6ms/step - loss: 0.1385 - accuracy: 0.9735 - val_loss: 0.1584 - val_accuracy: 0.9310\n",
            "Epoch 42/50\n",
            "4/4 [==============================] - 0s 6ms/step - loss: 0.1372 - accuracy: 0.9823 - val_loss: 0.1494 - val_accuracy: 0.9310\n",
            "Epoch 43/50\n",
            "4/4 [==============================] - 0s 5ms/step - loss: 0.1030 - accuracy: 0.9912 - val_loss: 0.1417 - val_accuracy: 0.9310\n",
            "Epoch 44/50\n",
            "4/4 [==============================] - 0s 7ms/step - loss: 0.0899 - accuracy: 0.9823 - val_loss: 0.1344 - val_accuracy: 0.9310\n",
            "Epoch 45/50\n",
            "4/4 [==============================] - 0s 7ms/step - loss: 0.0965 - accuracy: 0.9823 - val_loss: 0.1291 - val_accuracy: 0.9310\n",
            "Epoch 46/50\n",
            "4/4 [==============================] - 0s 6ms/step - loss: 0.1180 - accuracy: 0.9646 - val_loss: 0.1231 - val_accuracy: 0.9655\n",
            "Epoch 47/50\n",
            "4/4 [==============================] - 0s 7ms/step - loss: 0.0823 - accuracy: 0.9823 - val_loss: 0.1190 - val_accuracy: 0.9655\n",
            "Epoch 48/50\n",
            "4/4 [==============================] - 0s 6ms/step - loss: 0.1032 - accuracy: 0.9823 - val_loss: 0.1157 - val_accuracy: 0.9655\n",
            "Epoch 49/50\n",
            "4/4 [==============================] - 0s 6ms/step - loss: 0.0745 - accuracy: 0.9823 - val_loss: 0.1113 - val_accuracy: 0.9655\n",
            "Epoch 50/50\n",
            "4/4 [==============================] - 0s 6ms/step - loss: 0.0749 - accuracy: 0.9823 - val_loss: 0.1075 - val_accuracy: 0.9655\n"
          ],
          "name": "stdout"
        }
      ]
    },
    {
      "cell_type": "code",
      "metadata": {
        "id": "Cdt7MpmryOd8",
        "outputId": "b678186d-e3f7-42a3-f4d3-00c6c5b28760",
        "colab": {
          "base_uri": "https://localhost:8080/",
          "height": 34
        }
      },
      "source": [
        "model.evaluate(x_test, y_test)\n",
        "y_pred = model.predict(x_test) "
      ],
      "execution_count": 18,
      "outputs": [
        {
          "output_type": "stream",
          "text": [
            "2/2 [==============================] - 0s 2ms/step - loss: 0.0527 - accuracy: 1.0000\n"
          ],
          "name": "stdout"
        }
      ]
    },
    {
      "cell_type": "code",
      "metadata": {
        "id": "A87u1ptYuPVe",
        "outputId": "15cb6a59-bc01-428e-d19e-5256e0153874",
        "colab": {
          "base_uri": "https://localhost:8080/",
          "height": 661
        }
      },
      "source": [
        "tf.keras.utils.plot_model(model, to_file='wine_model.png')"
      ],
      "execution_count": 19,
      "outputs": [
        {
          "output_type": "execute_result",
          "data": {
            "image/png": "[encoded data removed]",
            "text/plain": [
              "<IPython.core.display.Image object>"
            ]
          },
          "metadata": {
            "tags": []
          },
          "execution_count": 19
        }
      ]
    },
    {
      "cell_type": "code",
      "metadata": {
        "id": "PxEwFPzDuXSW",
        "outputId": "4071f57f-537d-4f1f-aee0-3cfb3a41ee7c",
        "colab": {
          "base_uri": "https://localhost:8080/",
          "height": 573
        }
      },
      "source": [
        "def plot_model(history):\n",
        "    plt.plot(history.history['accuracy'])\n",
        "    plt.plot(history.history['val_accuracy'])\n",
        "    plt.title('Accuracy')\n",
        "    plt.xlabel('epoch')\n",
        "    plt.legend(['train', 'test'], loc='upper left')\n",
        "    plt.show()\n",
        "\n",
        "    plt.plot(history.history['loss'])\n",
        "    plt.plot(history.history['val_loss'])\n",
        "    plt.title('model loss ')\n",
        "    plt.ylabel('loss')\n",
        "    plt.xlabel('epoch')\n",
        "    plt.legend(['train', 'test'], loc='upper left')\n",
        "    plt.show()\n",
        "\n",
        "plot_model(hist)"
      ],
      "execution_count": 20,
      "outputs": [
        {
          "output_type": "display_data",
          "data": {
            "image/png": "[encoded data removed]",
            "text/plain": [
              "<Figure size 432x288 with 1 Axes>"
            ]
          },
          "metadata": {
            "tags": [],
            "needs_background": "light"
          }
        },
        {
          "output_type": "display_data",
          "data": {
            "image/png": "[encoded data removed]",
            "text/plain": [
              "<Figure size 432x288 with 1 Axes>"
            ]
          },
          "metadata": {
            "tags": [],
            "needs_background": "light"
          }
        }
      ]
    },
    {
      "cell_type": "code",
      "metadata": {
        "id": "OaHBmtJZu9Pm"
      },
      "source": [
        "# prepare for predicting labels\n",
        "# read sample data\n",
        "url = 'https://github.com/fangyiyu/auto_mpg/blob/main/wine_sample.xlsx?raw=true'\n",
        "x_pred = pd.read_excel(url)"
      ],
      "execution_count": 21,
      "outputs": []
    },
    {
      "cell_type": "code",
      "metadata": {
        "id": "lXg1xRXu0q-y"
      },
      "source": [
        "# scale features\n",
        "x_pred = x_pred[:13].transpose()[1:]\n",
        "x_pred = sc.fit_transform(x_pred)\n",
        "x_pred = pd.DataFrame(x_pred)"
      ],
      "execution_count": 22,
      "outputs": []
    },
    {
      "cell_type": "code",
      "metadata": {
        "id": "fmEMWuZI1o0i",
        "outputId": "eea2b1b0-b71d-49ac-a52b-b457f399d1d4",
        "colab": {
          "base_uri": "https://localhost:8080/",
          "height": 34
        }
      },
      "source": [
        "# predict\n",
        "y_pred = model.predict(x_pred) \n",
        "y_pred_class=np.argmax(y_pred,axis=1)\n",
        "y_pred_class"
      ],
      "execution_count": 23,
      "outputs": [
        {
          "output_type": "execute_result",
          "data": {
            "text/plain": [
              "array([2, 1, 1, 1, 0, 1, 1, 2, 0, 2])"
            ]
          },
          "metadata": {
            "tags": []
          },
          "execution_count": 23
        }
      ]
    },
    {
      "cell_type": "code",
      "metadata": {
        "id": "5kZ8Ly7RBRQV"
      },
      "source": [
        ""
      ],
      "execution_count": null,
      "outputs": []
    }
  ]
}
