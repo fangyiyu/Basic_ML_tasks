{
  "nbformat": 4,
  "nbformat_minor": 0,
  "metadata": {
    "colab": {
      "name": "auto.ipynb",
      "provenance": [],
      "authorship_tag": "ABX9TyPC864XFSHfFBIja1OL3fwp",
      "include_colab_link": true
    },
    "kernelspec": {
      "name": "python3",
      "display_name": "Python 3"
    }
  },
  "cells": [
    {
      "cell_type": "markdown",
      "metadata": {
        "id": "view-in-github",
        "colab_type": "text"
      },
      "source": [
        "<a href=\"https://colab.research.google.com/github/fangyiyu/auto_mpg/blob/main/auto_mpg_DNN.ipynb\" target=\"_parent\"><img src=\"https://colab.research.google.com/assets/colab-badge.svg\" alt=\"Open In Colab\"/></a>"
      ]
    },
    {
      "cell_type": "code",
      "metadata": {
        "id": "F-krwkUUnP16",
        "outputId": "a322c75b-1f17-47e5-a0fa-ddd710cfa3ac",
        "colab": {
          "base_uri": "https://localhost:8080/",
          "height": 34
        }
      },
      "source": [
        "# import libraries\n",
        "import tensorflow as tf\n",
        "\n",
        "from tensorflow import keras\n",
        "from tensorflow.keras import layers\n",
        "from tensorflow.keras.layers.experimental import preprocessing\n",
        "\n",
        "print(tf.__version__)"
      ],
      "execution_count": 1,
      "outputs": [
        {
          "output_type": "stream",
          "text": [
            "2.3.0\n"
          ],
          "name": "stdout"
        }
      ]
    },
    {
      "cell_type": "code",
      "metadata": {
        "id": "dzxSQmkVnTnP"
      },
      "source": [
        "import matplotlib.pyplot as plt\n",
        "import numpy as np\n",
        "import pandas as pd\n",
        "import seaborn as sns\n",
        "np.set_printoptions(precision=3, suppress=True)"
      ],
      "execution_count": 2,
      "outputs": []
    },
    {
      "cell_type": "code",
      "metadata": {
        "id": "sR_VNv2wnWtm"
      },
      "source": [
        "# read data\n",
        "url = 'http://archive.ics.uci.edu/ml/machine-learning-databases/auto-mpg/auto-mpg.data'\n",
        "column_names = ['MPG', 'Cylinders', 'Displacement', 'Horsepower', 'Weight',\n",
        "                'Acceleration', 'Model Year', 'Origin']\n",
        "\n",
        "raw_dataset = pd.read_csv(url, names=column_names,\n",
        "                          na_values='?', comment='\\t',\n",
        "                          sep=' ', skipinitialspace=True)"
      ],
      "execution_count": 3,
      "outputs": []
    },
    {
      "cell_type": "code",
      "metadata": {
        "id": "1auT1Y1fnYTV",
        "outputId": "1064f3a6-614a-478b-9211-804d47f4f9cd",
        "colab": {
          "base_uri": "https://localhost:8080/",
          "height": 204
        }
      },
      "source": [
        "dataset = raw_dataset.copy()\n",
        "dataset.head()"
      ],
      "execution_count": 4,
      "outputs": [
        {
          "output_type": "execute_result",
          "data": {
            "text/html": [
              "<div>\n",
              "<style scoped>\n",
              "    .dataframe tbody tr th:only-of-type {\n",
              "        vertical-align: middle;\n",
              "    }\n",
              "\n",
              "    .dataframe tbody tr th {\n",
              "        vertical-align: top;\n",
              "    }\n",
              "\n",
              "    .dataframe thead th {\n",
              "        text-align: right;\n",
              "    }\n",
              "</style>\n",
              "<table border=\"1\" class=\"dataframe\">\n",
              "  <thead>\n",
              "    <tr style=\"text-align: right;\">\n",
              "      <th></th>\n",
              "      <th>MPG</th>\n",
              "      <th>Cylinders</th>\n",
              "      <th>Displacement</th>\n",
              "      <th>Horsepower</th>\n",
              "      <th>Weight</th>\n",
              "      <th>Acceleration</th>\n",
              "      <th>Model Year</th>\n",
              "      <th>Origin</th>\n",
              "    </tr>\n",
              "  </thead>\n",
              "  <tbody>\n",
              "    <tr>\n",
              "      <th>0</th>\n",
              "      <td>18.0</td>\n",
              "      <td>8</td>\n",
              "      <td>307.0</td>\n",
              "      <td>130.0</td>\n",
              "      <td>3504.0</td>\n",
              "      <td>12.0</td>\n",
              "      <td>70</td>\n",
              "      <td>1</td>\n",
              "    </tr>\n",
              "    <tr>\n",
              "      <th>1</th>\n",
              "      <td>15.0</td>\n",
              "      <td>8</td>\n",
              "      <td>350.0</td>\n",
              "      <td>165.0</td>\n",
              "      <td>3693.0</td>\n",
              "      <td>11.5</td>\n",
              "      <td>70</td>\n",
              "      <td>1</td>\n",
              "    </tr>\n",
              "    <tr>\n",
              "      <th>2</th>\n",
              "      <td>18.0</td>\n",
              "      <td>8</td>\n",
              "      <td>318.0</td>\n",
              "      <td>150.0</td>\n",
              "      <td>3436.0</td>\n",
              "      <td>11.0</td>\n",
              "      <td>70</td>\n",
              "      <td>1</td>\n",
              "    </tr>\n",
              "    <tr>\n",
              "      <th>3</th>\n",
              "      <td>16.0</td>\n",
              "      <td>8</td>\n",
              "      <td>304.0</td>\n",
              "      <td>150.0</td>\n",
              "      <td>3433.0</td>\n",
              "      <td>12.0</td>\n",
              "      <td>70</td>\n",
              "      <td>1</td>\n",
              "    </tr>\n",
              "    <tr>\n",
              "      <th>4</th>\n",
              "      <td>17.0</td>\n",
              "      <td>8</td>\n",
              "      <td>302.0</td>\n",
              "      <td>140.0</td>\n",
              "      <td>3449.0</td>\n",
              "      <td>10.5</td>\n",
              "      <td>70</td>\n",
              "      <td>1</td>\n",
              "    </tr>\n",
              "  </tbody>\n",
              "</table>\n",
              "</div>"
            ],
            "text/plain": [
              "    MPG  Cylinders  Displacement  ...  Acceleration  Model Year  Origin\n",
              "0  18.0          8         307.0  ...          12.0          70       1\n",
              "1  15.0          8         350.0  ...          11.5          70       1\n",
              "2  18.0          8         318.0  ...          11.0          70       1\n",
              "3  16.0          8         304.0  ...          12.0          70       1\n",
              "4  17.0          8         302.0  ...          10.5          70       1\n",
              "\n",
              "[5 rows x 8 columns]"
            ]
          },
          "metadata": {
            "tags": []
          },
          "execution_count": 4
        }
      ]
    },
    {
      "cell_type": "code",
      "metadata": {
        "id": "PaKFZBy2nZiz",
        "outputId": "3f7d7f6e-7a46-4f79-e935-68d5f961e934",
        "colab": {
          "base_uri": "https://localhost:8080/",
          "height": 297
        }
      },
      "source": [
        "# replace null values in horsepower with the average horsepower for the respective number of cylinders\n",
        "dataset_copy = dataset.dropna()\n",
        "dataset_copy.isna().sum()\n",
        "AVG = np.sum(dataset_copy['Cylinders']*dataset_copy['Horsepower'])/np.sum(dataset_copy['Cylinders'])\n",
        "MEAN = np.mean(dataset_copy['Cylinders'])\n",
        "dataset.loc[pd.isnull(dataset.Horsepower), 'Horsepower'] = dataset.Cylinders*AVG/MEAN\n",
        "dataset.describe()"
      ],
      "execution_count": 5,
      "outputs": [
        {
          "output_type": "execute_result",
          "data": {
            "text/html": [
              "<div>\n",
              "<style scoped>\n",
              "    .dataframe tbody tr th:only-of-type {\n",
              "        vertical-align: middle;\n",
              "    }\n",
              "\n",
              "    .dataframe tbody tr th {\n",
              "        vertical-align: top;\n",
              "    }\n",
              "\n",
              "    .dataframe thead th {\n",
              "        text-align: right;\n",
              "    }\n",
              "</style>\n",
              "<table border=\"1\" class=\"dataframe\">\n",
              "  <thead>\n",
              "    <tr style=\"text-align: right;\">\n",
              "      <th></th>\n",
              "      <th>MPG</th>\n",
              "      <th>Cylinders</th>\n",
              "      <th>Displacement</th>\n",
              "      <th>Horsepower</th>\n",
              "      <th>Weight</th>\n",
              "      <th>Acceleration</th>\n",
              "      <th>Model Year</th>\n",
              "      <th>Origin</th>\n",
              "    </tr>\n",
              "  </thead>\n",
              "  <tbody>\n",
              "    <tr>\n",
              "      <th>count</th>\n",
              "      <td>398.000000</td>\n",
              "      <td>398.000000</td>\n",
              "      <td>398.000000</td>\n",
              "      <td>398.000000</td>\n",
              "      <td>398.000000</td>\n",
              "      <td>398.000000</td>\n",
              "      <td>398.000000</td>\n",
              "      <td>398.000000</td>\n",
              "    </tr>\n",
              "    <tr>\n",
              "      <th>mean</th>\n",
              "      <td>23.514573</td>\n",
              "      <td>5.454774</td>\n",
              "      <td>193.425879</td>\n",
              "      <td>104.262127</td>\n",
              "      <td>2970.424623</td>\n",
              "      <td>15.568090</td>\n",
              "      <td>76.010050</td>\n",
              "      <td>1.572864</td>\n",
              "    </tr>\n",
              "    <tr>\n",
              "      <th>std</th>\n",
              "      <td>7.815984</td>\n",
              "      <td>1.701004</td>\n",
              "      <td>104.269838</td>\n",
              "      <td>38.284091</td>\n",
              "      <td>846.841774</td>\n",
              "      <td>2.757689</td>\n",
              "      <td>3.697627</td>\n",
              "      <td>0.802055</td>\n",
              "    </tr>\n",
              "    <tr>\n",
              "      <th>min</th>\n",
              "      <td>9.000000</td>\n",
              "      <td>3.000000</td>\n",
              "      <td>68.000000</td>\n",
              "      <td>46.000000</td>\n",
              "      <td>1613.000000</td>\n",
              "      <td>8.000000</td>\n",
              "      <td>70.000000</td>\n",
              "      <td>1.000000</td>\n",
              "    </tr>\n",
              "    <tr>\n",
              "      <th>25%</th>\n",
              "      <td>17.500000</td>\n",
              "      <td>4.000000</td>\n",
              "      <td>104.250000</td>\n",
              "      <td>76.000000</td>\n",
              "      <td>2223.750000</td>\n",
              "      <td>13.825000</td>\n",
              "      <td>73.000000</td>\n",
              "      <td>1.000000</td>\n",
              "    </tr>\n",
              "    <tr>\n",
              "      <th>50%</th>\n",
              "      <td>23.000000</td>\n",
              "      <td>4.000000</td>\n",
              "      <td>148.500000</td>\n",
              "      <td>92.000000</td>\n",
              "      <td>2803.500000</td>\n",
              "      <td>15.500000</td>\n",
              "      <td>76.000000</td>\n",
              "      <td>1.000000</td>\n",
              "    </tr>\n",
              "    <tr>\n",
              "      <th>75%</th>\n",
              "      <td>29.000000</td>\n",
              "      <td>8.000000</td>\n",
              "      <td>262.000000</td>\n",
              "      <td>125.000000</td>\n",
              "      <td>3608.000000</td>\n",
              "      <td>17.175000</td>\n",
              "      <td>79.000000</td>\n",
              "      <td>2.000000</td>\n",
              "    </tr>\n",
              "    <tr>\n",
              "      <th>max</th>\n",
              "      <td>46.600000</td>\n",
              "      <td>8.000000</td>\n",
              "      <td>455.000000</td>\n",
              "      <td>230.000000</td>\n",
              "      <td>5140.000000</td>\n",
              "      <td>24.800000</td>\n",
              "      <td>82.000000</td>\n",
              "      <td>3.000000</td>\n",
              "    </tr>\n",
              "  </tbody>\n",
              "</table>\n",
              "</div>"
            ],
            "text/plain": [
              "              MPG   Cylinders  ...  Model Year      Origin\n",
              "count  398.000000  398.000000  ...  398.000000  398.000000\n",
              "mean    23.514573    5.454774  ...   76.010050    1.572864\n",
              "std      7.815984    1.701004  ...    3.697627    0.802055\n",
              "min      9.000000    3.000000  ...   70.000000    1.000000\n",
              "25%     17.500000    4.000000  ...   73.000000    1.000000\n",
              "50%     23.000000    4.000000  ...   76.000000    1.000000\n",
              "75%     29.000000    8.000000  ...   79.000000    2.000000\n",
              "max     46.600000    8.000000  ...   82.000000    3.000000\n",
              "\n",
              "[8 rows x 8 columns]"
            ]
          },
          "metadata": {
            "tags": []
          },
          "execution_count": 5
        }
      ]
    },
    {
      "cell_type": "code",
      "metadata": {
        "id": "QWKkq-Fknht8"
      },
      "source": [
        "# Split dataset to trainning de validation sets\n",
        "train_dataset=dataset.sample(frac=0.5, random_state=0)\n",
        "dev_dataset=dataset.drop(train_dataset.index)"
      ],
      "execution_count": 6,
      "outputs": []
    },
    {
      "cell_type": "code",
      "metadata": {
        "id": "kQje53d7nmGU"
      },
      "source": [
        "# split features from labels\n",
        "train_features = train_dataset.copy()\n",
        "dev_features = dev_dataset.copy()\n",
        "\n",
        "train_labels = train_features.pop('MPG')\n",
        "dev_labels = dev_features.pop('MPG')"
      ],
      "execution_count": 7,
      "outputs": []
    },
    {
      "cell_type": "code",
      "metadata": {
        "id": "k0u1l1xdnuGn",
        "outputId": "dc51413c-b8e0-47ca-9417-a9dd2c26f145",
        "colab": {
          "base_uri": "https://localhost:8080/",
          "height": 297
        }
      },
      "source": [
        "# each feature has different ranges, normalize into the same scale to make training more stable\n",
        "train_dataset.describe().transpose()[['mean', 'std']]"
      ],
      "execution_count": 8,
      "outputs": [
        {
          "output_type": "execute_result",
          "data": {
            "text/html": [
              "<div>\n",
              "<style scoped>\n",
              "    .dataframe tbody tr th:only-of-type {\n",
              "        vertical-align: middle;\n",
              "    }\n",
              "\n",
              "    .dataframe tbody tr th {\n",
              "        vertical-align: top;\n",
              "    }\n",
              "\n",
              "    .dataframe thead th {\n",
              "        text-align: right;\n",
              "    }\n",
              "</style>\n",
              "<table border=\"1\" class=\"dataframe\">\n",
              "  <thead>\n",
              "    <tr style=\"text-align: right;\">\n",
              "      <th></th>\n",
              "      <th>mean</th>\n",
              "      <th>std</th>\n",
              "    </tr>\n",
              "  </thead>\n",
              "  <tbody>\n",
              "    <tr>\n",
              "      <th>MPG</th>\n",
              "      <td>23.722111</td>\n",
              "      <td>8.045346</td>\n",
              "    </tr>\n",
              "    <tr>\n",
              "      <th>Cylinders</th>\n",
              "      <td>5.452261</td>\n",
              "      <td>1.680693</td>\n",
              "    </tr>\n",
              "    <tr>\n",
              "      <th>Displacement</th>\n",
              "      <td>194.020101</td>\n",
              "      <td>105.510398</td>\n",
              "    </tr>\n",
              "    <tr>\n",
              "      <th>Horsepower</th>\n",
              "      <td>104.583411</td>\n",
              "      <td>39.958258</td>\n",
              "    </tr>\n",
              "    <tr>\n",
              "      <th>Weight</th>\n",
              "      <td>2966.457286</td>\n",
              "      <td>848.200708</td>\n",
              "    </tr>\n",
              "    <tr>\n",
              "      <th>Acceleration</th>\n",
              "      <td>15.701005</td>\n",
              "      <td>2.898327</td>\n",
              "    </tr>\n",
              "    <tr>\n",
              "      <th>Model Year</th>\n",
              "      <td>75.959799</td>\n",
              "      <td>3.750878</td>\n",
              "    </tr>\n",
              "    <tr>\n",
              "      <th>Origin</th>\n",
              "      <td>1.552764</td>\n",
              "      <td>0.801501</td>\n",
              "    </tr>\n",
              "  </tbody>\n",
              "</table>\n",
              "</div>"
            ],
            "text/plain": [
              "                     mean         std\n",
              "MPG             23.722111    8.045346\n",
              "Cylinders        5.452261    1.680693\n",
              "Displacement   194.020101  105.510398\n",
              "Horsepower     104.583411   39.958258\n",
              "Weight        2966.457286  848.200708\n",
              "Acceleration    15.701005    2.898327\n",
              "Model Year      75.959799    3.750878\n",
              "Origin           1.552764    0.801501"
            ]
          },
          "metadata": {
            "tags": []
          },
          "execution_count": 8
        }
      ]
    },
    {
      "cell_type": "code",
      "metadata": {
        "id": "qhbARyjfnv_v"
      },
      "source": [
        "# normalization\n",
        "normalizer = preprocessing.Normalization()\n",
        "normalizer.adapt(np.array(train_features))"
      ],
      "execution_count": 9,
      "outputs": []
    },
    {
      "cell_type": "code",
      "metadata": {
        "id": "b_ozWdSunxaw"
      },
      "source": [
        "# build model\n",
        "def build_and_compile_model(norm):\n",
        "  model = keras.Sequential([\n",
        "      norm,\n",
        "      layers.Dense(64, activation='sigmoid'),\n",
        "      layers.Dense(64, activation='sigmoid'),\n",
        "      layers.Dense(1)\n",
        "  ])\n",
        "\n",
        "  model.compile(optimizer='sgd',\n",
        "              loss='mae',\n",
        "              metrics=['mae'])\n",
        "  return model"
      ],
      "execution_count": 10,
      "outputs": []
    },
    {
      "cell_type": "code",
      "metadata": {
        "id": "sZSASWBvnyy1"
      },
      "source": [
        "dnn_model = build_and_compile_model(normalizer)"
      ],
      "execution_count": 11,
      "outputs": []
    },
    {
      "cell_type": "code",
      "metadata": {
        "id": "CFZHDhcNn0KG",
        "outputId": "d0503f6a-42f0-41b2-8e2e-894525fbee6f",
        "colab": {
          "base_uri": "https://localhost:8080/",
          "height": 1000
        }
      },
      "source": [
        "# train the model\n",
        "%%time\n",
        "history = dnn_model.fit(\n",
        "    train_features, train_labels,\n",
        "    validation_split=0.2,\n",
        "    verbose=2, epochs=100)"
      ],
      "execution_count": 12,
      "outputs": [
        {
          "output_type": "stream",
          "text": [
            "Epoch 1/100\n",
            "5/5 - 0s - loss: 24.6425 - mae: 24.6425 - val_loss: 22.8051 - val_mae: 22.8051\n",
            "Epoch 2/100\n",
            "5/5 - 0s - loss: 23.6791 - mae: 23.6791 - val_loss: 21.8434 - val_mae: 21.8434\n",
            "Epoch 3/100\n",
            "5/5 - 0s - loss: 22.7155 - mae: 22.7155 - val_loss: 20.8764 - val_mae: 20.8764\n",
            "Epoch 4/100\n",
            "5/5 - 0s - loss: 21.7433 - mae: 21.7433 - val_loss: 19.8959 - val_mae: 19.8959\n",
            "Epoch 5/100\n",
            "5/5 - 0s - loss: 20.7542 - mae: 20.7542 - val_loss: 18.8935 - val_mae: 18.8935\n",
            "Epoch 6/100\n",
            "5/5 - 0s - loss: 19.7401 - mae: 19.7401 - val_loss: 17.8614 - val_mae: 17.8614\n",
            "Epoch 7/100\n",
            "5/5 - 0s - loss: 18.6932 - mae: 18.6932 - val_loss: 16.7918 - val_mae: 16.7918\n",
            "Epoch 8/100\n",
            "5/5 - 0s - loss: 17.6059 - mae: 17.6059 - val_loss: 15.6774 - val_mae: 15.6774\n",
            "Epoch 9/100\n",
            "5/5 - 0s - loss: 16.4710 - mae: 16.4710 - val_loss: 14.5114 - val_mae: 14.5114\n",
            "Epoch 10/100\n",
            "5/5 - 0s - loss: 15.2821 - mae: 15.2821 - val_loss: 13.2876 - val_mae: 13.2876\n",
            "Epoch 11/100\n",
            "5/5 - 0s - loss: 14.0329 - mae: 14.0329 - val_loss: 12.0003 - val_mae: 12.0003\n",
            "Epoch 12/100\n",
            "5/5 - 0s - loss: 12.7486 - mae: 12.7486 - val_loss: 10.7271 - val_mae: 10.7271\n",
            "Epoch 13/100\n",
            "5/5 - 0s - loss: 11.4871 - mae: 11.4871 - val_loss: 9.5335 - val_mae: 9.5335\n",
            "Epoch 14/100\n",
            "5/5 - 0s - loss: 10.3149 - mae: 10.3149 - val_loss: 8.5940 - val_mae: 8.5940\n",
            "Epoch 15/100\n",
            "5/5 - 0s - loss: 9.3260 - mae: 9.3260 - val_loss: 7.8799 - val_mae: 7.8799\n",
            "Epoch 16/100\n",
            "5/5 - 0s - loss: 8.6138 - mae: 8.6138 - val_loss: 7.4259 - val_mae: 7.4259\n",
            "Epoch 17/100\n",
            "5/5 - 0s - loss: 8.0668 - mae: 8.0668 - val_loss: 7.0981 - val_mae: 7.0981\n",
            "Epoch 18/100\n",
            "5/5 - 0s - loss: 7.6275 - mae: 7.6275 - val_loss: 6.8546 - val_mae: 6.8546\n",
            "Epoch 19/100\n",
            "5/5 - 0s - loss: 7.3528 - mae: 7.3528 - val_loss: 6.6809 - val_mae: 6.6809\n",
            "Epoch 20/100\n",
            "5/5 - 0s - loss: 7.1372 - mae: 7.1372 - val_loss: 6.5753 - val_mae: 6.5753\n",
            "Epoch 21/100\n",
            "5/5 - 0s - loss: 6.9447 - mae: 6.9447 - val_loss: 6.4848 - val_mae: 6.4848\n",
            "Epoch 22/100\n",
            "5/5 - 0s - loss: 6.7960 - mae: 6.7960 - val_loss: 6.4173 - val_mae: 6.4173\n",
            "Epoch 23/100\n",
            "5/5 - 0s - loss: 6.6717 - mae: 6.6717 - val_loss: 6.3958 - val_mae: 6.3958\n",
            "Epoch 24/100\n",
            "5/5 - 0s - loss: 6.5877 - mae: 6.5877 - val_loss: 6.3860 - val_mae: 6.3860\n",
            "Epoch 25/100\n",
            "5/5 - 0s - loss: 6.5125 - mae: 6.5125 - val_loss: 6.3746 - val_mae: 6.3746\n",
            "Epoch 26/100\n",
            "5/5 - 0s - loss: 6.4476 - mae: 6.4476 - val_loss: 6.3692 - val_mae: 6.3692\n",
            "Epoch 27/100\n",
            "5/5 - 0s - loss: 6.3887 - mae: 6.3887 - val_loss: 6.3651 - val_mae: 6.3651\n",
            "Epoch 28/100\n",
            "5/5 - 0s - loss: 6.3501 - mae: 6.3501 - val_loss: 6.3601 - val_mae: 6.3601\n",
            "Epoch 29/100\n",
            "5/5 - 0s - loss: 6.3008 - mae: 6.3008 - val_loss: 6.3666 - val_mae: 6.3666\n",
            "Epoch 30/100\n",
            "5/5 - 0s - loss: 6.2549 - mae: 6.2549 - val_loss: 6.3739 - val_mae: 6.3739\n",
            "Epoch 31/100\n",
            "5/5 - 0s - loss: 6.2219 - mae: 6.2219 - val_loss: 6.3721 - val_mae: 6.3721\n",
            "Epoch 32/100\n",
            "5/5 - 0s - loss: 6.1864 - mae: 6.1864 - val_loss: 6.3518 - val_mae: 6.3518\n",
            "Epoch 33/100\n",
            "5/5 - 0s - loss: 6.1601 - mae: 6.1601 - val_loss: 6.3317 - val_mae: 6.3317\n",
            "Epoch 34/100\n",
            "5/5 - 0s - loss: 6.1373 - mae: 6.1373 - val_loss: 6.3131 - val_mae: 6.3131\n",
            "Epoch 35/100\n",
            "5/5 - 0s - loss: 6.1069 - mae: 6.1069 - val_loss: 6.2959 - val_mae: 6.2959\n",
            "Epoch 36/100\n",
            "5/5 - 0s - loss: 6.0829 - mae: 6.0829 - val_loss: 6.2846 - val_mae: 6.2846\n",
            "Epoch 37/100\n",
            "5/5 - 0s - loss: 6.0544 - mae: 6.0544 - val_loss: 6.2676 - val_mae: 6.2676\n",
            "Epoch 38/100\n",
            "5/5 - 0s - loss: 6.0284 - mae: 6.0284 - val_loss: 6.2498 - val_mae: 6.2498\n",
            "Epoch 39/100\n",
            "5/5 - 0s - loss: 5.9922 - mae: 5.9922 - val_loss: 6.2317 - val_mae: 6.2317\n",
            "Epoch 40/100\n",
            "5/5 - 0s - loss: 5.9630 - mae: 5.9630 - val_loss: 6.2026 - val_mae: 6.2026\n",
            "Epoch 41/100\n",
            "5/5 - 0s - loss: 5.9382 - mae: 5.9382 - val_loss: 6.1787 - val_mae: 6.1787\n",
            "Epoch 42/100\n",
            "5/5 - 0s - loss: 5.9082 - mae: 5.9082 - val_loss: 6.1490 - val_mae: 6.1490\n",
            "Epoch 43/100\n",
            "5/5 - 0s - loss: 5.8771 - mae: 5.8771 - val_loss: 6.1197 - val_mae: 6.1197\n",
            "Epoch 44/100\n",
            "5/5 - 0s - loss: 5.8515 - mae: 5.8515 - val_loss: 6.0897 - val_mae: 6.0897\n",
            "Epoch 45/100\n",
            "5/5 - 0s - loss: 5.8173 - mae: 5.8173 - val_loss: 6.0598 - val_mae: 6.0598\n",
            "Epoch 46/100\n",
            "5/5 - 0s - loss: 5.7901 - mae: 5.7901 - val_loss: 6.0303 - val_mae: 6.0303\n",
            "Epoch 47/100\n",
            "5/5 - 0s - loss: 5.7600 - mae: 5.7600 - val_loss: 6.0000 - val_mae: 6.0000\n",
            "Epoch 48/100\n",
            "5/5 - 0s - loss: 5.7266 - mae: 5.7266 - val_loss: 5.9697 - val_mae: 5.9697\n",
            "Epoch 49/100\n",
            "5/5 - 0s - loss: 5.6981 - mae: 5.6981 - val_loss: 5.9393 - val_mae: 5.9393\n",
            "Epoch 50/100\n",
            "5/5 - 0s - loss: 5.6668 - mae: 5.6668 - val_loss: 5.9084 - val_mae: 5.9084\n",
            "Epoch 51/100\n",
            "5/5 - 0s - loss: 5.6391 - mae: 5.6391 - val_loss: 5.8721 - val_mae: 5.8721\n",
            "Epoch 52/100\n",
            "5/5 - 0s - loss: 5.5974 - mae: 5.5974 - val_loss: 5.8349 - val_mae: 5.8349\n",
            "Epoch 53/100\n",
            "5/5 - 0s - loss: 5.5653 - mae: 5.5653 - val_loss: 5.8030 - val_mae: 5.8030\n",
            "Epoch 54/100\n",
            "5/5 - 0s - loss: 5.5324 - mae: 5.5324 - val_loss: 5.7660 - val_mae: 5.7660\n",
            "Epoch 55/100\n",
            "5/5 - 0s - loss: 5.4983 - mae: 5.4983 - val_loss: 5.7338 - val_mae: 5.7338\n",
            "Epoch 56/100\n",
            "5/5 - 0s - loss: 5.4631 - mae: 5.4631 - val_loss: 5.7023 - val_mae: 5.7023\n",
            "Epoch 57/100\n",
            "5/5 - 0s - loss: 5.4308 - mae: 5.4308 - val_loss: 5.6699 - val_mae: 5.6699\n",
            "Epoch 58/100\n",
            "5/5 - 0s - loss: 5.3946 - mae: 5.3946 - val_loss: 5.6201 - val_mae: 5.6201\n",
            "Epoch 59/100\n",
            "5/5 - 0s - loss: 5.3544 - mae: 5.3544 - val_loss: 5.5756 - val_mae: 5.5756\n",
            "Epoch 60/100\n",
            "5/5 - 0s - loss: 5.3221 - mae: 5.3221 - val_loss: 5.5369 - val_mae: 5.5369\n",
            "Epoch 61/100\n",
            "5/5 - 0s - loss: 5.2820 - mae: 5.2820 - val_loss: 5.4979 - val_mae: 5.4979\n",
            "Epoch 62/100\n",
            "5/5 - 0s - loss: 5.2449 - mae: 5.2449 - val_loss: 5.4581 - val_mae: 5.4581\n",
            "Epoch 63/100\n",
            "5/5 - 0s - loss: 5.2078 - mae: 5.2078 - val_loss: 5.4074 - val_mae: 5.4074\n",
            "Epoch 64/100\n",
            "5/5 - 0s - loss: 5.1671 - mae: 5.1671 - val_loss: 5.3616 - val_mae: 5.3616\n",
            "Epoch 65/100\n",
            "5/5 - 0s - loss: 5.1278 - mae: 5.1278 - val_loss: 5.3212 - val_mae: 5.3212\n",
            "Epoch 66/100\n",
            "5/5 - 0s - loss: 5.0979 - mae: 5.0979 - val_loss: 5.2863 - val_mae: 5.2863\n",
            "Epoch 67/100\n",
            "5/5 - 0s - loss: 5.0603 - mae: 5.0603 - val_loss: 5.2335 - val_mae: 5.2335\n",
            "Epoch 68/100\n",
            "5/5 - 0s - loss: 5.0090 - mae: 5.0090 - val_loss: 5.1861 - val_mae: 5.1861\n",
            "Epoch 69/100\n",
            "5/5 - 0s - loss: 4.9725 - mae: 4.9725 - val_loss: 5.1385 - val_mae: 5.1385\n",
            "Epoch 70/100\n",
            "5/5 - 0s - loss: 4.9275 - mae: 4.9275 - val_loss: 5.0920 - val_mae: 5.0920\n",
            "Epoch 71/100\n",
            "5/5 - 0s - loss: 4.8858 - mae: 4.8858 - val_loss: 5.0414 - val_mae: 5.0414\n",
            "Epoch 72/100\n",
            "5/5 - 0s - loss: 4.8441 - mae: 4.8441 - val_loss: 4.9941 - val_mae: 4.9941\n",
            "Epoch 73/100\n",
            "5/5 - 0s - loss: 4.7994 - mae: 4.7994 - val_loss: 4.9412 - val_mae: 4.9412\n",
            "Epoch 74/100\n",
            "5/5 - 0s - loss: 4.7634 - mae: 4.7634 - val_loss: 4.8922 - val_mae: 4.8922\n",
            "Epoch 75/100\n",
            "5/5 - 0s - loss: 4.7050 - mae: 4.7050 - val_loss: 4.8426 - val_mae: 4.8426\n",
            "Epoch 76/100\n",
            "5/5 - 0s - loss: 4.6629 - mae: 4.6629 - val_loss: 4.7962 - val_mae: 4.7962\n",
            "Epoch 77/100\n",
            "5/5 - 0s - loss: 4.6156 - mae: 4.6156 - val_loss: 4.7501 - val_mae: 4.7501\n",
            "Epoch 78/100\n",
            "5/5 - 0s - loss: 4.5691 - mae: 4.5691 - val_loss: 4.7032 - val_mae: 4.7032\n",
            "Epoch 79/100\n",
            "5/5 - 0s - loss: 4.5191 - mae: 4.5191 - val_loss: 4.6550 - val_mae: 4.6550\n",
            "Epoch 80/100\n",
            "5/5 - 0s - loss: 4.4701 - mae: 4.4701 - val_loss: 4.6060 - val_mae: 4.6060\n",
            "Epoch 81/100\n",
            "5/5 - 0s - loss: 4.4237 - mae: 4.4237 - val_loss: 4.5554 - val_mae: 4.5554\n",
            "Epoch 82/100\n",
            "5/5 - 0s - loss: 4.3789 - mae: 4.3789 - val_loss: 4.5038 - val_mae: 4.5038\n",
            "Epoch 83/100\n",
            "5/5 - 0s - loss: 4.3205 - mae: 4.3205 - val_loss: 4.4512 - val_mae: 4.4512\n",
            "Epoch 84/100\n",
            "5/5 - 0s - loss: 4.2724 - mae: 4.2724 - val_loss: 4.3943 - val_mae: 4.3943\n",
            "Epoch 85/100\n",
            "5/5 - 0s - loss: 4.2145 - mae: 4.2145 - val_loss: 4.3369 - val_mae: 4.3369\n",
            "Epoch 86/100\n",
            "5/5 - 0s - loss: 4.1635 - mae: 4.1635 - val_loss: 4.2834 - val_mae: 4.2834\n",
            "Epoch 87/100\n",
            "5/5 - 0s - loss: 4.1185 - mae: 4.1185 - val_loss: 4.2318 - val_mae: 4.2318\n",
            "Epoch 88/100\n",
            "5/5 - 0s - loss: 4.0666 - mae: 4.0666 - val_loss: 4.1760 - val_mae: 4.1760\n",
            "Epoch 89/100\n",
            "5/5 - 0s - loss: 4.0332 - mae: 4.0332 - val_loss: 4.1226 - val_mae: 4.1226\n",
            "Epoch 90/100\n",
            "5/5 - 0s - loss: 3.9654 - mae: 3.9654 - val_loss: 4.0668 - val_mae: 4.0668\n",
            "Epoch 91/100\n",
            "5/5 - 0s - loss: 3.9096 - mae: 3.9096 - val_loss: 4.0128 - val_mae: 4.0128\n",
            "Epoch 92/100\n",
            "5/5 - 0s - loss: 3.8613 - mae: 3.8613 - val_loss: 3.9688 - val_mae: 3.9688\n",
            "Epoch 93/100\n",
            "5/5 - 0s - loss: 3.8219 - mae: 3.8219 - val_loss: 3.9205 - val_mae: 3.9205\n",
            "Epoch 94/100\n",
            "5/5 - 0s - loss: 3.7675 - mae: 3.7675 - val_loss: 3.8830 - val_mae: 3.8830\n",
            "Epoch 95/100\n",
            "5/5 - 0s - loss: 3.7298 - mae: 3.7298 - val_loss: 3.8376 - val_mae: 3.8376\n",
            "Epoch 96/100\n",
            "5/5 - 0s - loss: 3.6943 - mae: 3.6943 - val_loss: 3.8011 - val_mae: 3.8011\n",
            "Epoch 97/100\n",
            "5/5 - 0s - loss: 3.6614 - mae: 3.6614 - val_loss: 3.7620 - val_mae: 3.7620\n",
            "Epoch 98/100\n",
            "5/5 - 0s - loss: 3.6288 - mae: 3.6288 - val_loss: 3.7253 - val_mae: 3.7253\n",
            "Epoch 99/100\n",
            "5/5 - 0s - loss: 3.5966 - mae: 3.5966 - val_loss: 3.6911 - val_mae: 3.6911\n",
            "Epoch 100/100\n",
            "5/5 - 0s - loss: 3.5738 - mae: 3.5738 - val_loss: 3.6540 - val_mae: 3.6540\n",
            "CPU times: user 3.57 s, sys: 192 ms, total: 3.77 s\n",
            "Wall time: 3.8 s\n"
          ],
          "name": "stdout"
        }
      ]
    },
    {
      "cell_type": "code",
      "metadata": {
        "id": "jFWWkroWn1hE",
        "outputId": "39e3fd1a-2806-4a42-fe75-19a739ed6686",
        "colab": {
          "base_uri": "https://localhost:8080/",
          "height": 466
        }
      },
      "source": [
        "# display the model\n",
        "tf.keras.utils.plot_model(dnn_model, to_file='fd.png')"
      ],
      "execution_count": 13,
      "outputs": [
        {
          "output_type": "execute_result",
          "data": {
            "image/png": "[encoded data removed]",
            "text/plain": [
              "<IPython.core.display.Image object>"
            ]
          },
          "metadata": {
            "tags": []
          },
          "execution_count": 13
        }
      ]
    },
    {
      "cell_type": "code",
      "metadata": {
        "id": "qxEGOFmpn4j2",
        "outputId": "e76867a0-229d-4660-e6f7-471ddbd6c09b",
        "colab": {
          "base_uri": "https://localhost:8080/",
          "height": 295
        }
      },
      "source": [
        "# plot the loss and accuracy of the model\n",
        "def plot_model(history, name):\n",
        "    #plt.plot(history.history['mae'])\n",
        "    #plt.plot(history.history['val_mae'])\n",
        "    #plt.title('mean abosulte error')\n",
        "    #plt.xlabel('epoch')\n",
        "   # plt.legend(['train', 'test'], loc='upper left')\n",
        "\n",
        "    plt.plot(history.history['loss'])\n",
        "    plt.plot(history.history['val_loss'])\n",
        "    plt.title('model loss and mean abosulte error')\n",
        "    plt.ylabel('mean abosulte error and loss')\n",
        "    plt.xlabel('epoch')\n",
        "    plt.legend(['train', 'val'], loc='upper left')\n",
        "    plt.savefig(name)\n",
        "    plt.show()\n",
        "\n",
        "plot_model(history, 'd.png')"
      ],
      "execution_count": 14,
      "outputs": [
        {
          "output_type": "display_data",
          "data": {
            "image/png": "[encoded data removed]",
            "text/plain": [
              "<Figure size 432x288 with 1 Axes>"
            ]
          },
          "metadata": {
            "tags": [],
            "needs_background": "light"
          }
        }
      ]
    },
    {
      "cell_type": "code",
      "metadata": {
        "id": "T91nGg33oCFr"
      },
      "source": [
        "# optimize the model by adding kernal initializer, changing activation function, changing optimizer, and adding dropout layer\n",
        "def build_optimized_model(norm):\n",
        "  model = keras.Sequential([\n",
        "      norm,\n",
        "      layers.Dense(64, activation='relu', kernel_initializer='uniform'),\n",
        "      layers.Dense(64, activation='relu', kernel_initializer='uniform'),\n",
        "      layers.Dropout(0.2),\n",
        "      layers.Dense(1)\n",
        "  ])\n",
        "\n",
        "  model.compile(optimizer='adam',\n",
        "              loss='mae',\n",
        "              metrics=['mae'])\n",
        "  return model"
      ],
      "execution_count": 15,
      "outputs": []
    },
    {
      "cell_type": "code",
      "metadata": {
        "id": "wey9KUPwoElQ"
      },
      "source": [
        "dnn_model_optimized = build_optimized_model(normalizer)"
      ],
      "execution_count": 16,
      "outputs": []
    },
    {
      "cell_type": "code",
      "metadata": {
        "id": "GYhZGVXxoGIM",
        "outputId": "ae1ec062-4ed9-4671-8f41-0d52de598607",
        "colab": {
          "base_uri": "https://localhost:8080/",
          "height": 1000
        }
      },
      "source": [
        "# run the optimized model\n",
        "%%time\n",
        "history_optimized = dnn_model_optimized.fit(\n",
        "    train_features, train_labels,\n",
        "    validation_split=0.2,\n",
        "    verbose=2, epochs=100)"
      ],
      "execution_count": 17,
      "outputs": [
        {
          "output_type": "stream",
          "text": [
            "Epoch 1/100\n",
            "5/5 - 0s - loss: 23.9441 - mae: 23.9441 - val_loss: 22.6363 - val_mae: 22.6363\n",
            "Epoch 2/100\n",
            "5/5 - 0s - loss: 23.8479 - mae: 23.8479 - val_loss: 22.5248 - val_mae: 22.5248\n",
            "Epoch 3/100\n",
            "5/5 - 0s - loss: 23.7234 - mae: 23.7234 - val_loss: 22.3587 - val_mae: 22.3587\n",
            "Epoch 4/100\n",
            "5/5 - 0s - loss: 23.5315 - mae: 23.5315 - val_loss: 22.1130 - val_mae: 22.1130\n",
            "Epoch 5/100\n",
            "5/5 - 0s - loss: 23.2537 - mae: 23.2537 - val_loss: 21.7654 - val_mae: 21.7654\n",
            "Epoch 6/100\n",
            "5/5 - 0s - loss: 22.8639 - mae: 22.8639 - val_loss: 21.2897 - val_mae: 21.2897\n",
            "Epoch 7/100\n",
            "5/5 - 0s - loss: 22.3318 - mae: 22.3318 - val_loss: 20.6545 - val_mae: 20.6545\n",
            "Epoch 8/100\n",
            "5/5 - 0s - loss: 21.6349 - mae: 21.6349 - val_loss: 19.8360 - val_mae: 19.8360\n",
            "Epoch 9/100\n",
            "5/5 - 0s - loss: 20.7897 - mae: 20.7897 - val_loss: 18.8126 - val_mae: 18.8126\n",
            "Epoch 10/100\n",
            "5/5 - 0s - loss: 19.6409 - mae: 19.6409 - val_loss: 17.5314 - val_mae: 17.5314\n",
            "Epoch 11/100\n",
            "5/5 - 0s - loss: 18.2672 - mae: 18.2672 - val_loss: 15.9738 - val_mae: 15.9738\n",
            "Epoch 12/100\n",
            "5/5 - 0s - loss: 16.6830 - mae: 16.6830 - val_loss: 14.2822 - val_mae: 14.2822\n",
            "Epoch 13/100\n",
            "5/5 - 0s - loss: 15.4410 - mae: 15.4410 - val_loss: 12.6340 - val_mae: 12.6340\n",
            "Epoch 14/100\n",
            "5/5 - 0s - loss: 13.9109 - mae: 13.9109 - val_loss: 11.2041 - val_mae: 11.2041\n",
            "Epoch 15/100\n",
            "5/5 - 0s - loss: 12.1583 - mae: 12.1583 - val_loss: 9.6063 - val_mae: 9.6063\n",
            "Epoch 16/100\n",
            "5/5 - 0s - loss: 10.5749 - mae: 10.5749 - val_loss: 7.8209 - val_mae: 7.8209\n",
            "Epoch 17/100\n",
            "5/5 - 0s - loss: 8.6961 - mae: 8.6961 - val_loss: 6.0339 - val_mae: 6.0339\n",
            "Epoch 18/100\n",
            "5/5 - 0s - loss: 7.4397 - mae: 7.4397 - val_loss: 5.7312 - val_mae: 5.7312\n",
            "Epoch 19/100\n",
            "5/5 - 0s - loss: 6.8504 - mae: 6.8504 - val_loss: 5.9164 - val_mae: 5.9164\n",
            "Epoch 20/100\n",
            "5/5 - 0s - loss: 6.7086 - mae: 6.7086 - val_loss: 5.9492 - val_mae: 5.9492\n",
            "Epoch 21/100\n",
            "5/5 - 0s - loss: 6.4865 - mae: 6.4865 - val_loss: 5.8030 - val_mae: 5.8030\n",
            "Epoch 22/100\n",
            "5/5 - 0s - loss: 6.0198 - mae: 6.0198 - val_loss: 5.4134 - val_mae: 5.4134\n",
            "Epoch 23/100\n",
            "5/5 - 0s - loss: 5.5780 - mae: 5.5780 - val_loss: 4.9919 - val_mae: 4.9919\n",
            "Epoch 24/100\n",
            "5/5 - 0s - loss: 5.7925 - mae: 5.7925 - val_loss: 4.5621 - val_mae: 4.5621\n",
            "Epoch 25/100\n",
            "5/5 - 0s - loss: 5.3965 - mae: 5.3965 - val_loss: 4.2220 - val_mae: 4.2220\n",
            "Epoch 26/100\n",
            "5/5 - 0s - loss: 5.1202 - mae: 5.1202 - val_loss: 3.8981 - val_mae: 3.8981\n",
            "Epoch 27/100\n",
            "5/5 - 0s - loss: 4.8746 - mae: 4.8746 - val_loss: 3.6480 - val_mae: 3.6480\n",
            "Epoch 28/100\n",
            "5/5 - 0s - loss: 4.6647 - mae: 4.6647 - val_loss: 3.5056 - val_mae: 3.5056\n",
            "Epoch 29/100\n",
            "5/5 - 0s - loss: 4.6529 - mae: 4.6529 - val_loss: 3.4457 - val_mae: 3.4457\n",
            "Epoch 30/100\n",
            "5/5 - 0s - loss: 4.3125 - mae: 4.3125 - val_loss: 3.4590 - val_mae: 3.4590\n",
            "Epoch 31/100\n",
            "5/5 - 0s - loss: 4.3591 - mae: 4.3591 - val_loss: 3.4873 - val_mae: 3.4873\n",
            "Epoch 32/100\n",
            "5/5 - 0s - loss: 4.3550 - mae: 4.3550 - val_loss: 3.3233 - val_mae: 3.3233\n",
            "Epoch 33/100\n",
            "5/5 - 0s - loss: 4.0190 - mae: 4.0190 - val_loss: 3.2207 - val_mae: 3.2207\n",
            "Epoch 34/100\n",
            "5/5 - 0s - loss: 3.7670 - mae: 3.7670 - val_loss: 3.1527 - val_mae: 3.1527\n",
            "Epoch 35/100\n",
            "5/5 - 0s - loss: 3.7287 - mae: 3.7287 - val_loss: 3.1281 - val_mae: 3.1281\n",
            "Epoch 36/100\n",
            "5/5 - 0s - loss: 3.8828 - mae: 3.8828 - val_loss: 3.0914 - val_mae: 3.0914\n",
            "Epoch 37/100\n",
            "5/5 - 0s - loss: 3.8760 - mae: 3.8760 - val_loss: 3.0658 - val_mae: 3.0658\n",
            "Epoch 38/100\n",
            "5/5 - 0s - loss: 3.6748 - mae: 3.6748 - val_loss: 3.0699 - val_mae: 3.0699\n",
            "Epoch 39/100\n",
            "5/5 - 0s - loss: 3.6624 - mae: 3.6624 - val_loss: 2.9961 - val_mae: 2.9961\n",
            "Epoch 40/100\n",
            "5/5 - 0s - loss: 3.4280 - mae: 3.4280 - val_loss: 2.9411 - val_mae: 2.9411\n",
            "Epoch 41/100\n",
            "5/5 - 0s - loss: 3.3219 - mae: 3.3219 - val_loss: 2.9081 - val_mae: 2.9081\n",
            "Epoch 42/100\n",
            "5/5 - 0s - loss: 3.2996 - mae: 3.2996 - val_loss: 2.8709 - val_mae: 2.8709\n",
            "Epoch 43/100\n",
            "5/5 - 0s - loss: 3.2191 - mae: 3.2191 - val_loss: 2.8264 - val_mae: 2.8264\n",
            "Epoch 44/100\n",
            "5/5 - 0s - loss: 3.4453 - mae: 3.4453 - val_loss: 2.7127 - val_mae: 2.7127\n",
            "Epoch 45/100\n",
            "5/5 - 0s - loss: 3.1649 - mae: 3.1649 - val_loss: 2.6691 - val_mae: 2.6691\n",
            "Epoch 46/100\n",
            "5/5 - 0s - loss: 3.2390 - mae: 3.2390 - val_loss: 2.5829 - val_mae: 2.5829\n",
            "Epoch 47/100\n",
            "5/5 - 0s - loss: 3.1638 - mae: 3.1638 - val_loss: 2.5331 - val_mae: 2.5331\n",
            "Epoch 48/100\n",
            "5/5 - 0s - loss: 3.1338 - mae: 3.1338 - val_loss: 2.5553 - val_mae: 2.5553\n",
            "Epoch 49/100\n",
            "5/5 - 0s - loss: 3.0503 - mae: 3.0503 - val_loss: 2.5199 - val_mae: 2.5199\n",
            "Epoch 50/100\n",
            "5/5 - 0s - loss: 2.9408 - mae: 2.9408 - val_loss: 2.5004 - val_mae: 2.5004\n",
            "Epoch 51/100\n",
            "5/5 - 0s - loss: 2.9497 - mae: 2.9497 - val_loss: 2.5078 - val_mae: 2.5078\n",
            "Epoch 52/100\n",
            "5/5 - 0s - loss: 2.9414 - mae: 2.9414 - val_loss: 2.4935 - val_mae: 2.4935\n",
            "Epoch 53/100\n",
            "5/5 - 0s - loss: 2.9661 - mae: 2.9661 - val_loss: 2.2974 - val_mae: 2.2974\n",
            "Epoch 54/100\n",
            "5/5 - 0s - loss: 2.9085 - mae: 2.9085 - val_loss: 2.2277 - val_mae: 2.2277\n",
            "Epoch 55/100\n",
            "5/5 - 0s - loss: 2.9270 - mae: 2.9270 - val_loss: 2.2235 - val_mae: 2.2235\n",
            "Epoch 56/100\n",
            "5/5 - 0s - loss: 2.8865 - mae: 2.8865 - val_loss: 2.1905 - val_mae: 2.1905\n",
            "Epoch 57/100\n",
            "5/5 - 0s - loss: 2.7934 - mae: 2.7934 - val_loss: 2.2245 - val_mae: 2.2245\n",
            "Epoch 58/100\n",
            "5/5 - 0s - loss: 3.0198 - mae: 3.0198 - val_loss: 2.1392 - val_mae: 2.1392\n",
            "Epoch 59/100\n",
            "5/5 - 0s - loss: 2.6463 - mae: 2.6463 - val_loss: 2.0787 - val_mae: 2.0787\n",
            "Epoch 60/100\n",
            "5/5 - 0s - loss: 2.9262 - mae: 2.9262 - val_loss: 2.0342 - val_mae: 2.0342\n",
            "Epoch 61/100\n",
            "5/5 - 0s - loss: 2.8692 - mae: 2.8692 - val_loss: 2.0184 - val_mae: 2.0184\n",
            "Epoch 62/100\n",
            "5/5 - 0s - loss: 2.8425 - mae: 2.8425 - val_loss: 2.0146 - val_mae: 2.0146\n",
            "Epoch 63/100\n",
            "5/5 - 0s - loss: 2.7334 - mae: 2.7334 - val_loss: 2.0488 - val_mae: 2.0488\n",
            "Epoch 64/100\n",
            "5/5 - 0s - loss: 2.6969 - mae: 2.6969 - val_loss: 2.0757 - val_mae: 2.0757\n",
            "Epoch 65/100\n",
            "5/5 - 0s - loss: 2.6807 - mae: 2.6807 - val_loss: 2.0281 - val_mae: 2.0281\n",
            "Epoch 66/100\n",
            "5/5 - 0s - loss: 2.5781 - mae: 2.5781 - val_loss: 1.9553 - val_mae: 1.9553\n",
            "Epoch 67/100\n",
            "5/5 - 0s - loss: 2.7567 - mae: 2.7567 - val_loss: 1.9153 - val_mae: 1.9153\n",
            "Epoch 68/100\n",
            "5/5 - 0s - loss: 2.7026 - mae: 2.7026 - val_loss: 1.9258 - val_mae: 1.9258\n",
            "Epoch 69/100\n",
            "5/5 - 0s - loss: 2.6079 - mae: 2.6079 - val_loss: 1.9372 - val_mae: 1.9372\n",
            "Epoch 70/100\n",
            "5/5 - 0s - loss: 2.5680 - mae: 2.5680 - val_loss: 1.9748 - val_mae: 1.9748\n",
            "Epoch 71/100\n",
            "5/5 - 0s - loss: 2.7036 - mae: 2.7036 - val_loss: 1.9995 - val_mae: 1.9995\n",
            "Epoch 72/100\n",
            "5/5 - 0s - loss: 2.7001 - mae: 2.7001 - val_loss: 1.9820 - val_mae: 1.9820\n",
            "Epoch 73/100\n",
            "5/5 - 0s - loss: 2.7523 - mae: 2.7523 - val_loss: 1.9350 - val_mae: 1.9350\n",
            "Epoch 74/100\n",
            "5/5 - 0s - loss: 2.7461 - mae: 2.7461 - val_loss: 1.9503 - val_mae: 1.9503\n",
            "Epoch 75/100\n",
            "5/5 - 0s - loss: 2.5702 - mae: 2.5702 - val_loss: 2.0486 - val_mae: 2.0486\n",
            "Epoch 76/100\n",
            "5/5 - 0s - loss: 2.7922 - mae: 2.7922 - val_loss: 2.0786 - val_mae: 2.0786\n",
            "Epoch 77/100\n",
            "5/5 - 0s - loss: 2.8693 - mae: 2.8693 - val_loss: 2.0289 - val_mae: 2.0289\n",
            "Epoch 78/100\n",
            "5/5 - 0s - loss: 2.7155 - mae: 2.7155 - val_loss: 1.9129 - val_mae: 1.9129\n",
            "Epoch 79/100\n",
            "5/5 - 0s - loss: 2.4344 - mae: 2.4344 - val_loss: 1.9080 - val_mae: 1.9080\n",
            "Epoch 80/100\n",
            "5/5 - 0s - loss: 2.7645 - mae: 2.7645 - val_loss: 1.8894 - val_mae: 1.8894\n",
            "Epoch 81/100\n",
            "5/5 - 0s - loss: 2.3297 - mae: 2.3297 - val_loss: 1.9451 - val_mae: 1.9451\n",
            "Epoch 82/100\n",
            "5/5 - 0s - loss: 2.5757 - mae: 2.5757 - val_loss: 1.9709 - val_mae: 1.9709\n",
            "Epoch 83/100\n",
            "5/5 - 0s - loss: 2.6019 - mae: 2.6019 - val_loss: 1.9567 - val_mae: 1.9567\n",
            "Epoch 84/100\n",
            "5/5 - 0s - loss: 2.6655 - mae: 2.6655 - val_loss: 1.9090 - val_mae: 1.9090\n",
            "Epoch 85/100\n",
            "5/5 - 0s - loss: 2.6624 - mae: 2.6624 - val_loss: 1.9200 - val_mae: 1.9200\n",
            "Epoch 86/100\n",
            "5/5 - 0s - loss: 2.4610 - mae: 2.4610 - val_loss: 1.9027 - val_mae: 1.9027\n",
            "Epoch 87/100\n",
            "5/5 - 0s - loss: 2.4033 - mae: 2.4033 - val_loss: 1.9782 - val_mae: 1.9782\n",
            "Epoch 88/100\n",
            "5/5 - 0s - loss: 2.4046 - mae: 2.4046 - val_loss: 2.0357 - val_mae: 2.0357\n",
            "Epoch 89/100\n",
            "5/5 - 0s - loss: 2.6272 - mae: 2.6272 - val_loss: 1.9741 - val_mae: 1.9741\n",
            "Epoch 90/100\n",
            "5/5 - 0s - loss: 2.3690 - mae: 2.3690 - val_loss: 1.9528 - val_mae: 1.9528\n",
            "Epoch 91/100\n",
            "5/5 - 0s - loss: 2.3715 - mae: 2.3715 - val_loss: 1.9639 - val_mae: 1.9639\n",
            "Epoch 92/100\n",
            "5/5 - 0s - loss: 2.6859 - mae: 2.6859 - val_loss: 1.9653 - val_mae: 1.9653\n",
            "Epoch 93/100\n",
            "5/5 - 0s - loss: 2.4643 - mae: 2.4643 - val_loss: 2.0701 - val_mae: 2.0701\n",
            "Epoch 94/100\n",
            "5/5 - 0s - loss: 2.6610 - mae: 2.6610 - val_loss: 2.0754 - val_mae: 2.0754\n",
            "Epoch 95/100\n",
            "5/5 - 0s - loss: 2.5455 - mae: 2.5455 - val_loss: 2.0203 - val_mae: 2.0203\n",
            "Epoch 96/100\n",
            "5/5 - 0s - loss: 2.9577 - mae: 2.9577 - val_loss: 2.0390 - val_mae: 2.0390\n",
            "Epoch 97/100\n",
            "5/5 - 0s - loss: 2.3766 - mae: 2.3766 - val_loss: 1.9809 - val_mae: 1.9809\n",
            "Epoch 98/100\n",
            "5/5 - 0s - loss: 2.3861 - mae: 2.3861 - val_loss: 2.0808 - val_mae: 2.0808\n",
            "Epoch 99/100\n",
            "5/5 - 0s - loss: 2.5871 - mae: 2.5871 - val_loss: 2.0556 - val_mae: 2.0556\n",
            "Epoch 100/100\n",
            "5/5 - 0s - loss: 2.4679 - mae: 2.4679 - val_loss: 1.9405 - val_mae: 1.9405\n",
            "CPU times: user 3.73 s, sys: 239 ms, total: 3.97 s\n",
            "Wall time: 3.91 s\n"
          ],
          "name": "stdout"
        }
      ]
    },
    {
      "cell_type": "code",
      "metadata": {
        "id": "HmUdad-joHTw",
        "outputId": "960ff3ab-1ec0-44ee-e6b3-7a508a6fa4c5",
        "colab": {
          "base_uri": "https://localhost:8080/",
          "height": 295
        }
      },
      "source": [
        "# plot the optimized model\n",
        "plot_model(history_optimized, 'e.png')"
      ],
      "execution_count": 18,
      "outputs": [
        {
          "output_type": "display_data",
          "data": {
            "image/png": "[encoded data removed]",
            "text/plain": [
              "<Figure size 432x288 with 1 Axes>"
            ]
          },
          "metadata": {
            "tags": [],
            "needs_background": "light"
          }
        }
      ]
    },
    {
      "cell_type": "code",
      "metadata": {
        "id": "G3tzk590oI9X",
        "outputId": "9e2b61ee-5064-4963-9566-12a150d225b3",
        "colab": {
          "base_uri": "https://localhost:8080/",
          "height": 564
        }
      },
      "source": [
        "# display the optimized model\n",
        "tf.keras.utils.plot_model(dnn_model_optimized , to_file='fe.png')"
      ],
      "execution_count": 19,
      "outputs": [
        {
          "output_type": "execute_result",
          "data": {
            "image/png": "[encoded data removed]",
            "text/plain": [
              "<IPython.core.display.Image object>"
            ]
          },
          "metadata": {
            "tags": []
          },
          "execution_count": 19
        }
      ]
    },
    {
      "cell_type": "code",
      "metadata": {
        "id": "MY8cpStVoLSX"
      },
      "source": [
        ""
      ],
      "execution_count": 19,
      "outputs": []
    }
  ]
}