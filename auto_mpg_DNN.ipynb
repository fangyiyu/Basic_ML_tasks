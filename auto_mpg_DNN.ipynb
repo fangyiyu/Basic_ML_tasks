{
  "nbformat": 4,
  "nbformat_minor": 0,
  "metadata": {
    "colab": {
      "name": "auto.ipynb",
      "provenance": [],
      "authorship_tag": "ABX9TyPkeEjEpKf5qi6GrCjuSell",
      "include_colab_link": true
    },
    "kernelspec": {
      "name": "python3",
      "display_name": "Python 3"
    }
  },
  "cells": [
    {
      "cell_type": "markdown",
      "metadata": {
        "id": "view-in-github",
        "colab_type": "text"
      },
      "source": [
        "<a href=\"https://colab.research.google.com/github/fangyiyu/auto_mpg/blob/main/auto_mpg_DNN.ipynb\" target=\"_parent\"><img src=\"https://colab.research.google.com/assets/colab-badge.svg\" alt=\"Open In Colab\"/></a>"
      ]
    },
    {
      "cell_type": "code",
      "metadata": {
        "id": "F-krwkUUnP16",
        "outputId": "ea136e15-956d-42c0-f295-810e42d620fd",
        "colab": {
          "base_uri": "https://localhost:8080/",
          "height": 34
        }
      },
      "source": [
        "# import libraries\n",
        "import tensorflow as tf\n",
        "\n",
        "from tensorflow import keras\n",
        "from tensorflow.keras import layers\n",
        "from tensorflow.keras.layers.experimental import preprocessing\n",
        "\n",
        "print(tf.__version__)"
      ],
      "execution_count": 1,
      "outputs": [
        {
          "output_type": "stream",
          "text": [
            "2.3.0\n"
          ],
          "name": "stdout"
        }
      ]
    },
    {
      "cell_type": "code",
      "metadata": {
        "id": "dzxSQmkVnTnP"
      },
      "source": [
        "import matplotlib.pyplot as plt\n",
        "import numpy as np\n",
        "import pandas as pd\n",
        "import seaborn as sns\n",
        "np.set_printoptions(precision=3, suppress=True)"
      ],
      "execution_count": 2,
      "outputs": []
    },
    {
      "cell_type": "code",
      "metadata": {
        "id": "sR_VNv2wnWtm"
      },
      "source": [
        "# read data\n",
        "url = 'http://archive.ics.uci.edu/ml/machine-learning-databases/auto-mpg/auto-mpg.data'\n",
        "column_names = ['MPG', 'Cylinders', 'Displacement', 'Horsepower', 'Weight',\n",
        "                'Acceleration', 'Model Year', 'Origin']\n",
        "\n",
        "raw_dataset = pd.read_csv(url, names=column_names,\n",
        "                          na_values='?', comment='\\t',\n",
        "                          sep=' ', skipinitialspace=True)"
      ],
      "execution_count": 3,
      "outputs": []
    },
    {
      "cell_type": "code",
      "metadata": {
        "id": "1auT1Y1fnYTV",
        "outputId": "837d4700-d842-4e77-bf0b-a760f22543f8",
        "colab": {
          "base_uri": "https://localhost:8080/",
          "height": 204
        }
      },
      "source": [
        "dataset = raw_dataset.copy()\n",
        "dataset.head()"
      ],
      "execution_count": 4,
      "outputs": [
        {
          "output_type": "execute_result",
          "data": {
            "text/html": [
              "<div>\n",
              "<style scoped>\n",
              "    .dataframe tbody tr th:only-of-type {\n",
              "        vertical-align: middle;\n",
              "    }\n",
              "\n",
              "    .dataframe tbody tr th {\n",
              "        vertical-align: top;\n",
              "    }\n",
              "\n",
              "    .dataframe thead th {\n",
              "        text-align: right;\n",
              "    }\n",
              "</style>\n",
              "<table border=\"1\" class=\"dataframe\">\n",
              "  <thead>\n",
              "    <tr style=\"text-align: right;\">\n",
              "      <th></th>\n",
              "      <th>MPG</th>\n",
              "      <th>Cylinders</th>\n",
              "      <th>Displacement</th>\n",
              "      <th>Horsepower</th>\n",
              "      <th>Weight</th>\n",
              "      <th>Acceleration</th>\n",
              "      <th>Model Year</th>\n",
              "      <th>Origin</th>\n",
              "    </tr>\n",
              "  </thead>\n",
              "  <tbody>\n",
              "    <tr>\n",
              "      <th>0</th>\n",
              "      <td>18.0</td>\n",
              "      <td>8</td>\n",
              "      <td>307.0</td>\n",
              "      <td>130.0</td>\n",
              "      <td>3504.0</td>\n",
              "      <td>12.0</td>\n",
              "      <td>70</td>\n",
              "      <td>1</td>\n",
              "    </tr>\n",
              "    <tr>\n",
              "      <th>1</th>\n",
              "      <td>15.0</td>\n",
              "      <td>8</td>\n",
              "      <td>350.0</td>\n",
              "      <td>165.0</td>\n",
              "      <td>3693.0</td>\n",
              "      <td>11.5</td>\n",
              "      <td>70</td>\n",
              "      <td>1</td>\n",
              "    </tr>\n",
              "    <tr>\n",
              "      <th>2</th>\n",
              "      <td>18.0</td>\n",
              "      <td>8</td>\n",
              "      <td>318.0</td>\n",
              "      <td>150.0</td>\n",
              "      <td>3436.0</td>\n",
              "      <td>11.0</td>\n",
              "      <td>70</td>\n",
              "      <td>1</td>\n",
              "    </tr>\n",
              "    <tr>\n",
              "      <th>3</th>\n",
              "      <td>16.0</td>\n",
              "      <td>8</td>\n",
              "      <td>304.0</td>\n",
              "      <td>150.0</td>\n",
              "      <td>3433.0</td>\n",
              "      <td>12.0</td>\n",
              "      <td>70</td>\n",
              "      <td>1</td>\n",
              "    </tr>\n",
              "    <tr>\n",
              "      <th>4</th>\n",
              "      <td>17.0</td>\n",
              "      <td>8</td>\n",
              "      <td>302.0</td>\n",
              "      <td>140.0</td>\n",
              "      <td>3449.0</td>\n",
              "      <td>10.5</td>\n",
              "      <td>70</td>\n",
              "      <td>1</td>\n",
              "    </tr>\n",
              "  </tbody>\n",
              "</table>\n",
              "</div>"
            ],
            "text/plain": [
              "    MPG  Cylinders  Displacement  ...  Acceleration  Model Year  Origin\n",
              "0  18.0          8         307.0  ...          12.0          70       1\n",
              "1  15.0          8         350.0  ...          11.5          70       1\n",
              "2  18.0          8         318.0  ...          11.0          70       1\n",
              "3  16.0          8         304.0  ...          12.0          70       1\n",
              "4  17.0          8         302.0  ...          10.5          70       1\n",
              "\n",
              "[5 rows x 8 columns]"
            ]
          },
          "metadata": {
            "tags": []
          },
          "execution_count": 4
        }
      ]
    },
    {
      "cell_type": "code",
      "metadata": {
        "id": "PaKFZBy2nZiz",
        "outputId": "44ac7c3f-f028-42bc-867e-c47eda893e77",
        "colab": {
          "base_uri": "https://localhost:8080/",
          "height": 297
        }
      },
      "source": [
        "# replace null values in horsepower with the average horsepower for the respective number of cylinders\n",
        "dataset_copy = dataset.dropna()\n",
        "dataset_copy.isna().sum()\n",
        "AVG = np.sum(dataset_copy['Cylinders']*dataset_copy['Horsepower'])/np.sum(dataset_copy['Cylinders'])\n",
        "MEAN = np.mean(dataset_copy['Cylinders'])\n",
        "dataset.loc[pd.isnull(dataset.Horsepower), 'Horsepower'] = dataset.Cylinders*AVG/MEAN\n",
        "dataset.describe()"
      ],
      "execution_count": 5,
      "outputs": [
        {
          "output_type": "execute_result",
          "data": {
            "text/html": [
              "<div>\n",
              "<style scoped>\n",
              "    .dataframe tbody tr th:only-of-type {\n",
              "        vertical-align: middle;\n",
              "    }\n",
              "\n",
              "    .dataframe tbody tr th {\n",
              "        vertical-align: top;\n",
              "    }\n",
              "\n",
              "    .dataframe thead th {\n",
              "        text-align: right;\n",
              "    }\n",
              "</style>\n",
              "<table border=\"1\" class=\"dataframe\">\n",
              "  <thead>\n",
              "    <tr style=\"text-align: right;\">\n",
              "      <th></th>\n",
              "      <th>MPG</th>\n",
              "      <th>Cylinders</th>\n",
              "      <th>Displacement</th>\n",
              "      <th>Horsepower</th>\n",
              "      <th>Weight</th>\n",
              "      <th>Acceleration</th>\n",
              "      <th>Model Year</th>\n",
              "      <th>Origin</th>\n",
              "    </tr>\n",
              "  </thead>\n",
              "  <tbody>\n",
              "    <tr>\n",
              "      <th>count</th>\n",
              "      <td>398.000000</td>\n",
              "      <td>398.000000</td>\n",
              "      <td>398.000000</td>\n",
              "      <td>398.000000</td>\n",
              "      <td>398.000000</td>\n",
              "      <td>398.000000</td>\n",
              "      <td>398.000000</td>\n",
              "      <td>398.000000</td>\n",
              "    </tr>\n",
              "    <tr>\n",
              "      <th>mean</th>\n",
              "      <td>23.514573</td>\n",
              "      <td>5.454774</td>\n",
              "      <td>193.425879</td>\n",
              "      <td>104.262127</td>\n",
              "      <td>2970.424623</td>\n",
              "      <td>15.568090</td>\n",
              "      <td>76.010050</td>\n",
              "      <td>1.572864</td>\n",
              "    </tr>\n",
              "    <tr>\n",
              "      <th>std</th>\n",
              "      <td>7.815984</td>\n",
              "      <td>1.701004</td>\n",
              "      <td>104.269838</td>\n",
              "      <td>38.284091</td>\n",
              "      <td>846.841774</td>\n",
              "      <td>2.757689</td>\n",
              "      <td>3.697627</td>\n",
              "      <td>0.802055</td>\n",
              "    </tr>\n",
              "    <tr>\n",
              "      <th>min</th>\n",
              "      <td>9.000000</td>\n",
              "      <td>3.000000</td>\n",
              "      <td>68.000000</td>\n",
              "      <td>46.000000</td>\n",
              "      <td>1613.000000</td>\n",
              "      <td>8.000000</td>\n",
              "      <td>70.000000</td>\n",
              "      <td>1.000000</td>\n",
              "    </tr>\n",
              "    <tr>\n",
              "      <th>25%</th>\n",
              "      <td>17.500000</td>\n",
              "      <td>4.000000</td>\n",
              "      <td>104.250000</td>\n",
              "      <td>76.000000</td>\n",
              "      <td>2223.750000</td>\n",
              "      <td>13.825000</td>\n",
              "      <td>73.000000</td>\n",
              "      <td>1.000000</td>\n",
              "    </tr>\n",
              "    <tr>\n",
              "      <th>50%</th>\n",
              "      <td>23.000000</td>\n",
              "      <td>4.000000</td>\n",
              "      <td>148.500000</td>\n",
              "      <td>92.000000</td>\n",
              "      <td>2803.500000</td>\n",
              "      <td>15.500000</td>\n",
              "      <td>76.000000</td>\n",
              "      <td>1.000000</td>\n",
              "    </tr>\n",
              "    <tr>\n",
              "      <th>75%</th>\n",
              "      <td>29.000000</td>\n",
              "      <td>8.000000</td>\n",
              "      <td>262.000000</td>\n",
              "      <td>125.000000</td>\n",
              "      <td>3608.000000</td>\n",
              "      <td>17.175000</td>\n",
              "      <td>79.000000</td>\n",
              "      <td>2.000000</td>\n",
              "    </tr>\n",
              "    <tr>\n",
              "      <th>max</th>\n",
              "      <td>46.600000</td>\n",
              "      <td>8.000000</td>\n",
              "      <td>455.000000</td>\n",
              "      <td>230.000000</td>\n",
              "      <td>5140.000000</td>\n",
              "      <td>24.800000</td>\n",
              "      <td>82.000000</td>\n",
              "      <td>3.000000</td>\n",
              "    </tr>\n",
              "  </tbody>\n",
              "</table>\n",
              "</div>"
            ],
            "text/plain": [
              "              MPG   Cylinders  ...  Model Year      Origin\n",
              "count  398.000000  398.000000  ...  398.000000  398.000000\n",
              "mean    23.514573    5.454774  ...   76.010050    1.572864\n",
              "std      7.815984    1.701004  ...    3.697627    0.802055\n",
              "min      9.000000    3.000000  ...   70.000000    1.000000\n",
              "25%     17.500000    4.000000  ...   73.000000    1.000000\n",
              "50%     23.000000    4.000000  ...   76.000000    1.000000\n",
              "75%     29.000000    8.000000  ...   79.000000    2.000000\n",
              "max     46.600000    8.000000  ...   82.000000    3.000000\n",
              "\n",
              "[8 rows x 8 columns]"
            ]
          },
          "metadata": {
            "tags": []
          },
          "execution_count": 5
        }
      ]
    },
    {
      "cell_type": "code",
      "metadata": {
        "id": "QWKkq-Fknht8"
      },
      "source": [
        "# Split dataset to trainning de validation sets\n",
        "train_dataset=dataset.sample(frac=0.5, random_state=0)\n",
        "dev_dataset=dataset.drop(train_dataset.index)"
      ],
      "execution_count": 6,
      "outputs": []
    },
    {
      "cell_type": "code",
      "metadata": {
        "id": "kQje53d7nmGU"
      },
      "source": [
        "# split features from labels\n",
        "train_features = train_dataset.copy()\n",
        "dev_features = dev_dataset.copy()\n",
        "\n",
        "train_labels = train_features.pop('MPG')\n",
        "dev_labels = dev_features.pop('MPG')"
      ],
      "execution_count": 7,
      "outputs": []
    },
    {
      "cell_type": "code",
      "metadata": {
        "id": "k0u1l1xdnuGn",
        "outputId": "f8518896-347a-4466-86bc-ab577773c30d",
        "colab": {
          "base_uri": "https://localhost:8080/",
          "height": 297
        }
      },
      "source": [
        "# each feature has different ranges, normalize into the same scale to make training more stable\n",
        "train_dataset.describe().transpose()[['mean', 'std']]"
      ],
      "execution_count": 8,
      "outputs": [
        {
          "output_type": "execute_result",
          "data": {
            "text/html": [
              "<div>\n",
              "<style scoped>\n",
              "    .dataframe tbody tr th:only-of-type {\n",
              "        vertical-align: middle;\n",
              "    }\n",
              "\n",
              "    .dataframe tbody tr th {\n",
              "        vertical-align: top;\n",
              "    }\n",
              "\n",
              "    .dataframe thead th {\n",
              "        text-align: right;\n",
              "    }\n",
              "</style>\n",
              "<table border=\"1\" class=\"dataframe\">\n",
              "  <thead>\n",
              "    <tr style=\"text-align: right;\">\n",
              "      <th></th>\n",
              "      <th>mean</th>\n",
              "      <th>std</th>\n",
              "    </tr>\n",
              "  </thead>\n",
              "  <tbody>\n",
              "    <tr>\n",
              "      <th>MPG</th>\n",
              "      <td>23.722111</td>\n",
              "      <td>8.045346</td>\n",
              "    </tr>\n",
              "    <tr>\n",
              "      <th>Cylinders</th>\n",
              "      <td>5.452261</td>\n",
              "      <td>1.680693</td>\n",
              "    </tr>\n",
              "    <tr>\n",
              "      <th>Displacement</th>\n",
              "      <td>194.020101</td>\n",
              "      <td>105.510398</td>\n",
              "    </tr>\n",
              "    <tr>\n",
              "      <th>Horsepower</th>\n",
              "      <td>104.583411</td>\n",
              "      <td>39.958258</td>\n",
              "    </tr>\n",
              "    <tr>\n",
              "      <th>Weight</th>\n",
              "      <td>2966.457286</td>\n",
              "      <td>848.200708</td>\n",
              "    </tr>\n",
              "    <tr>\n",
              "      <th>Acceleration</th>\n",
              "      <td>15.701005</td>\n",
              "      <td>2.898327</td>\n",
              "    </tr>\n",
              "    <tr>\n",
              "      <th>Model Year</th>\n",
              "      <td>75.959799</td>\n",
              "      <td>3.750878</td>\n",
              "    </tr>\n",
              "    <tr>\n",
              "      <th>Origin</th>\n",
              "      <td>1.552764</td>\n",
              "      <td>0.801501</td>\n",
              "    </tr>\n",
              "  </tbody>\n",
              "</table>\n",
              "</div>"
            ],
            "text/plain": [
              "                     mean         std\n",
              "MPG             23.722111    8.045346\n",
              "Cylinders        5.452261    1.680693\n",
              "Displacement   194.020101  105.510398\n",
              "Horsepower     104.583411   39.958258\n",
              "Weight        2966.457286  848.200708\n",
              "Acceleration    15.701005    2.898327\n",
              "Model Year      75.959799    3.750878\n",
              "Origin           1.552764    0.801501"
            ]
          },
          "metadata": {
            "tags": []
          },
          "execution_count": 8
        }
      ]
    },
    {
      "cell_type": "code",
      "metadata": {
        "id": "qhbARyjfnv_v"
      },
      "source": [
        "# normalization\n",
        "normalizer = preprocessing.Normalization()\n",
        "normalizer.adapt(np.array(train_features))"
      ],
      "execution_count": 9,
      "outputs": []
    },
    {
      "cell_type": "code",
      "metadata": {
        "id": "b_ozWdSunxaw"
      },
      "source": [
        "# build model\n",
        "def build_and_compile_model(norm):\n",
        "  model = keras.Sequential([\n",
        "      norm,\n",
        "      layers.Dense(64, activation='sigmoid'),\n",
        "      layers.Dense(64, activation='sigmoid'),\n",
        "      layers.Dense(1)\n",
        "  ])\n",
        "\n",
        "  model.compile(optimizer='sgd',\n",
        "              loss='mae',\n",
        "              metrics=['mae'])\n",
        "  return model"
      ],
      "execution_count": 10,
      "outputs": []
    },
    {
      "cell_type": "code",
      "metadata": {
        "id": "sZSASWBvnyy1"
      },
      "source": [
        "dnn_model = build_and_compile_model(normalizer)"
      ],
      "execution_count": 11,
      "outputs": []
    },
    {
      "cell_type": "code",
      "metadata": {
        "id": "CFZHDhcNn0KG",
        "outputId": "3241d193-79aa-4fc3-f101-06569a900bad",
        "colab": {
          "base_uri": "https://localhost:8080/",
          "height": 1000
        }
      },
      "source": [
        "# train the model\n",
        "%%time\n",
        "history = dnn_model.fit(train_features, train_labels,\n",
        "    validation_data=(dev_features, dev_labels),\n",
        "    verbose=2, epochs=100)"
      ],
      "execution_count": 12,
      "outputs": [
        {
          "output_type": "stream",
          "text": [
            "Epoch 1/100\n",
            "7/7 - 0s - loss: 24.7800 - mae: 24.7800 - val_loss: 23.4675 - val_mae: 23.4675\n",
            "Epoch 2/100\n",
            "7/7 - 0s - loss: 23.3489 - mae: 23.3489 - val_loss: 22.0376 - val_mae: 22.0376\n",
            "Epoch 3/100\n",
            "7/7 - 0s - loss: 21.9135 - mae: 21.9135 - val_loss: 20.5875 - val_mae: 20.5875\n",
            "Epoch 4/100\n",
            "7/7 - 0s - loss: 20.4489 - mae: 20.4489 - val_loss: 19.0940 - val_mae: 19.0940\n",
            "Epoch 5/100\n",
            "7/7 - 0s - loss: 18.9320 - mae: 18.9320 - val_loss: 17.5324 - val_mae: 17.5324\n",
            "Epoch 6/100\n",
            "7/7 - 0s - loss: 17.3384 - mae: 17.3384 - val_loss: 15.8808 - val_mae: 15.8808\n",
            "Epoch 7/100\n",
            "7/7 - 0s - loss: 15.6464 - mae: 15.6464 - val_loss: 14.1178 - val_mae: 14.1178\n",
            "Epoch 8/100\n",
            "7/7 - 0s - loss: 13.8398 - mae: 13.8398 - val_loss: 12.2689 - val_mae: 12.2689\n",
            "Epoch 9/100\n",
            "7/7 - 0s - loss: 11.9734 - mae: 11.9734 - val_loss: 10.4022 - val_mae: 10.4022\n",
            "Epoch 10/100\n",
            "7/7 - 0s - loss: 10.2268 - mae: 10.2268 - val_loss: 9.0331 - val_mae: 9.0331\n",
            "Epoch 11/100\n",
            "7/7 - 0s - loss: 8.9421 - mae: 8.9421 - val_loss: 8.0201 - val_mae: 8.0201\n",
            "Epoch 12/100\n",
            "7/7 - 0s - loss: 8.0804 - mae: 8.0804 - val_loss: 7.3584 - val_mae: 7.3584\n",
            "Epoch 13/100\n",
            "7/7 - 0s - loss: 7.5550 - mae: 7.5550 - val_loss: 6.9874 - val_mae: 6.9874\n",
            "Epoch 14/100\n",
            "7/7 - 0s - loss: 7.2674 - mae: 7.2674 - val_loss: 6.6483 - val_mae: 6.6483\n",
            "Epoch 15/100\n",
            "7/7 - 0s - loss: 6.9877 - mae: 6.9877 - val_loss: 6.4469 - val_mae: 6.4469\n",
            "Epoch 16/100\n",
            "7/7 - 0s - loss: 6.7856 - mae: 6.7856 - val_loss: 6.3262 - val_mae: 6.3262\n",
            "Epoch 17/100\n",
            "7/7 - 0s - loss: 6.6533 - mae: 6.6533 - val_loss: 6.2213 - val_mae: 6.2213\n",
            "Epoch 18/100\n",
            "7/7 - 0s - loss: 6.5470 - mae: 6.5470 - val_loss: 6.1765 - val_mae: 6.1765\n",
            "Epoch 19/100\n",
            "7/7 - 0s - loss: 6.4951 - mae: 6.4951 - val_loss: 6.1251 - val_mae: 6.1251\n",
            "Epoch 20/100\n",
            "7/7 - 0s - loss: 6.4368 - mae: 6.4368 - val_loss: 6.0781 - val_mae: 6.0781\n",
            "Epoch 21/100\n",
            "7/7 - 0s - loss: 6.3785 - mae: 6.3785 - val_loss: 6.0414 - val_mae: 6.0414\n",
            "Epoch 22/100\n",
            "7/7 - 0s - loss: 6.3365 - mae: 6.3365 - val_loss: 6.0032 - val_mae: 6.0032\n",
            "Epoch 23/100\n",
            "7/7 - 0s - loss: 6.2895 - mae: 6.2895 - val_loss: 5.9707 - val_mae: 5.9707\n",
            "Epoch 24/100\n",
            "7/7 - 0s - loss: 6.2574 - mae: 6.2574 - val_loss: 5.9306 - val_mae: 5.9306\n",
            "Epoch 25/100\n",
            "7/7 - 0s - loss: 6.2121 - mae: 6.2121 - val_loss: 5.8913 - val_mae: 5.8913\n",
            "Epoch 26/100\n",
            "7/7 - 0s - loss: 6.1742 - mae: 6.1742 - val_loss: 5.8525 - val_mae: 5.8525\n",
            "Epoch 27/100\n",
            "7/7 - 0s - loss: 6.1394 - mae: 6.1394 - val_loss: 5.8213 - val_mae: 5.8213\n",
            "Epoch 28/100\n",
            "7/7 - 0s - loss: 6.0936 - mae: 6.0936 - val_loss: 5.7854 - val_mae: 5.7854\n",
            "Epoch 29/100\n",
            "7/7 - 0s - loss: 6.0549 - mae: 6.0549 - val_loss: 5.7537 - val_mae: 5.7537\n",
            "Epoch 30/100\n",
            "7/7 - 0s - loss: 6.0284 - mae: 6.0284 - val_loss: 5.7135 - val_mae: 5.7135\n",
            "Epoch 31/100\n",
            "7/7 - 0s - loss: 5.9868 - mae: 5.9868 - val_loss: 5.6776 - val_mae: 5.6776\n",
            "Epoch 32/100\n",
            "7/7 - 0s - loss: 5.9582 - mae: 5.9582 - val_loss: 5.6407 - val_mae: 5.6407\n",
            "Epoch 33/100\n",
            "7/7 - 0s - loss: 5.9146 - mae: 5.9146 - val_loss: 5.6055 - val_mae: 5.6055\n",
            "Epoch 34/100\n",
            "7/7 - 0s - loss: 5.8750 - mae: 5.8750 - val_loss: 5.5705 - val_mae: 5.5705\n",
            "Epoch 35/100\n",
            "7/7 - 0s - loss: 5.8398 - mae: 5.8398 - val_loss: 5.5332 - val_mae: 5.5332\n",
            "Epoch 36/100\n",
            "7/7 - 0s - loss: 5.8004 - mae: 5.8004 - val_loss: 5.4959 - val_mae: 5.4959\n",
            "Epoch 37/100\n",
            "7/7 - 0s - loss: 5.7585 - mae: 5.7585 - val_loss: 5.4592 - val_mae: 5.4592\n",
            "Epoch 38/100\n",
            "7/7 - 0s - loss: 5.7222 - mae: 5.7222 - val_loss: 5.4280 - val_mae: 5.4280\n",
            "Epoch 39/100\n",
            "7/7 - 0s - loss: 5.6837 - mae: 5.6837 - val_loss: 5.3899 - val_mae: 5.3899\n",
            "Epoch 40/100\n",
            "7/7 - 0s - loss: 5.6430 - mae: 5.6430 - val_loss: 5.3496 - val_mae: 5.3496\n",
            "Epoch 41/100\n",
            "7/7 - 0s - loss: 5.6053 - mae: 5.6053 - val_loss: 5.3041 - val_mae: 5.3041\n",
            "Epoch 42/100\n",
            "7/7 - 0s - loss: 5.5609 - mae: 5.5609 - val_loss: 5.2647 - val_mae: 5.2647\n",
            "Epoch 43/100\n",
            "7/7 - 0s - loss: 5.5188 - mae: 5.5188 - val_loss: 5.2232 - val_mae: 5.2232\n",
            "Epoch 44/100\n",
            "7/7 - 0s - loss: 5.4729 - mae: 5.4729 - val_loss: 5.1774 - val_mae: 5.1774\n",
            "Epoch 45/100\n",
            "7/7 - 0s - loss: 5.4336 - mae: 5.4336 - val_loss: 5.1359 - val_mae: 5.1359\n",
            "Epoch 46/100\n",
            "7/7 - 0s - loss: 5.3878 - mae: 5.3878 - val_loss: 5.0948 - val_mae: 5.0948\n",
            "Epoch 47/100\n",
            "7/7 - 0s - loss: 5.3401 - mae: 5.3401 - val_loss: 5.0508 - val_mae: 5.0508\n",
            "Epoch 48/100\n",
            "7/7 - 0s - loss: 5.2943 - mae: 5.2943 - val_loss: 5.0101 - val_mae: 5.0101\n",
            "Epoch 49/100\n",
            "7/7 - 0s - loss: 5.2497 - mae: 5.2497 - val_loss: 4.9638 - val_mae: 4.9638\n",
            "Epoch 50/100\n",
            "7/7 - 0s - loss: 5.2094 - mae: 5.2094 - val_loss: 4.9194 - val_mae: 4.9194\n",
            "Epoch 51/100\n",
            "7/7 - 0s - loss: 5.1552 - mae: 5.1552 - val_loss: 4.8830 - val_mae: 4.8830\n",
            "Epoch 52/100\n",
            "7/7 - 0s - loss: 5.1159 - mae: 5.1159 - val_loss: 4.8378 - val_mae: 4.8378\n",
            "Epoch 53/100\n",
            "7/7 - 0s - loss: 5.0685 - mae: 5.0685 - val_loss: 4.7901 - val_mae: 4.7901\n",
            "Epoch 54/100\n",
            "7/7 - 0s - loss: 5.0144 - mae: 5.0144 - val_loss: 4.7377 - val_mae: 4.7377\n",
            "Epoch 55/100\n",
            "7/7 - 0s - loss: 4.9675 - mae: 4.9675 - val_loss: 4.6912 - val_mae: 4.6912\n",
            "Epoch 56/100\n",
            "7/7 - 0s - loss: 4.9155 - mae: 4.9155 - val_loss: 4.6447 - val_mae: 4.6447\n",
            "Epoch 57/100\n",
            "7/7 - 0s - loss: 4.8618 - mae: 4.8618 - val_loss: 4.5889 - val_mae: 4.5889\n",
            "Epoch 58/100\n",
            "7/7 - 0s - loss: 4.8063 - mae: 4.8063 - val_loss: 4.5335 - val_mae: 4.5335\n",
            "Epoch 59/100\n",
            "7/7 - 0s - loss: 4.7446 - mae: 4.7446 - val_loss: 4.4781 - val_mae: 4.4781\n",
            "Epoch 60/100\n",
            "7/7 - 0s - loss: 4.6836 - mae: 4.6836 - val_loss: 4.4334 - val_mae: 4.4334\n",
            "Epoch 61/100\n",
            "7/7 - 0s - loss: 4.6339 - mae: 4.6339 - val_loss: 4.3766 - val_mae: 4.3766\n",
            "Epoch 62/100\n",
            "7/7 - 0s - loss: 4.5747 - mae: 4.5747 - val_loss: 4.3186 - val_mae: 4.3186\n",
            "Epoch 63/100\n",
            "7/7 - 0s - loss: 4.5138 - mae: 4.5138 - val_loss: 4.2704 - val_mae: 4.2704\n",
            "Epoch 64/100\n",
            "7/7 - 0s - loss: 4.4671 - mae: 4.4671 - val_loss: 4.2157 - val_mae: 4.2157\n",
            "Epoch 65/100\n",
            "7/7 - 0s - loss: 4.3947 - mae: 4.3947 - val_loss: 4.1664 - val_mae: 4.1664\n",
            "Epoch 66/100\n",
            "7/7 - 0s - loss: 4.3399 - mae: 4.3399 - val_loss: 4.0967 - val_mae: 4.0967\n",
            "Epoch 67/100\n",
            "7/7 - 0s - loss: 4.2728 - mae: 4.2728 - val_loss: 4.0329 - val_mae: 4.0329\n",
            "Epoch 68/100\n",
            "7/7 - 0s - loss: 4.2134 - mae: 4.2134 - val_loss: 3.9802 - val_mae: 3.9802\n",
            "Epoch 69/100\n",
            "7/7 - 0s - loss: 4.1498 - mae: 4.1498 - val_loss: 3.9260 - val_mae: 3.9260\n",
            "Epoch 70/100\n",
            "7/7 - 0s - loss: 4.0893 - mae: 4.0893 - val_loss: 3.8748 - val_mae: 3.8748\n",
            "Epoch 71/100\n",
            "7/7 - 0s - loss: 4.0349 - mae: 4.0349 - val_loss: 3.8192 - val_mae: 3.8192\n",
            "Epoch 72/100\n",
            "7/7 - 0s - loss: 3.9740 - mae: 3.9740 - val_loss: 3.7684 - val_mae: 3.7684\n",
            "Epoch 73/100\n",
            "7/7 - 0s - loss: 3.9246 - mae: 3.9246 - val_loss: 3.7153 - val_mae: 3.7153\n",
            "Epoch 74/100\n",
            "7/7 - 0s - loss: 3.8628 - mae: 3.8628 - val_loss: 3.6690 - val_mae: 3.6690\n",
            "Epoch 75/100\n",
            "7/7 - 0s - loss: 3.8113 - mae: 3.8113 - val_loss: 3.6231 - val_mae: 3.6231\n",
            "Epoch 76/100\n",
            "7/7 - 0s - loss: 3.7639 - mae: 3.7639 - val_loss: 3.5784 - val_mae: 3.5784\n",
            "Epoch 77/100\n",
            "7/7 - 0s - loss: 3.7136 - mae: 3.7136 - val_loss: 3.5344 - val_mae: 3.5344\n",
            "Epoch 78/100\n",
            "7/7 - 0s - loss: 3.6645 - mae: 3.6645 - val_loss: 3.4871 - val_mae: 3.4871\n",
            "Epoch 79/100\n",
            "7/7 - 0s - loss: 3.6258 - mae: 3.6258 - val_loss: 3.4470 - val_mae: 3.4470\n",
            "Epoch 80/100\n",
            "7/7 - 0s - loss: 3.5865 - mae: 3.5865 - val_loss: 3.4266 - val_mae: 3.4266\n",
            "Epoch 81/100\n",
            "7/7 - 0s - loss: 3.5502 - mae: 3.5502 - val_loss: 3.3867 - val_mae: 3.3867\n",
            "Epoch 82/100\n",
            "7/7 - 0s - loss: 3.5166 - mae: 3.5166 - val_loss: 3.3372 - val_mae: 3.3372\n",
            "Epoch 83/100\n",
            "7/7 - 0s - loss: 3.4760 - mae: 3.4760 - val_loss: 3.3239 - val_mae: 3.3239\n",
            "Epoch 84/100\n",
            "7/7 - 0s - loss: 3.4460 - mae: 3.4460 - val_loss: 3.2814 - val_mae: 3.2814\n",
            "Epoch 85/100\n",
            "7/7 - 0s - loss: 3.4171 - mae: 3.4171 - val_loss: 3.2726 - val_mae: 3.2726\n",
            "Epoch 86/100\n",
            "7/7 - 0s - loss: 3.3946 - mae: 3.3946 - val_loss: 3.2366 - val_mae: 3.2366\n",
            "Epoch 87/100\n",
            "7/7 - 0s - loss: 3.3648 - mae: 3.3648 - val_loss: 3.2044 - val_mae: 3.2044\n",
            "Epoch 88/100\n",
            "7/7 - 0s - loss: 3.3400 - mae: 3.3400 - val_loss: 3.1631 - val_mae: 3.1631\n",
            "Epoch 89/100\n",
            "7/7 - 0s - loss: 3.3182 - mae: 3.3182 - val_loss: 3.1705 - val_mae: 3.1705\n",
            "Epoch 90/100\n",
            "7/7 - 0s - loss: 3.3044 - mae: 3.3044 - val_loss: 3.1412 - val_mae: 3.1412\n",
            "Epoch 91/100\n",
            "7/7 - 0s - loss: 3.2837 - mae: 3.2837 - val_loss: 3.0949 - val_mae: 3.0949\n",
            "Epoch 92/100\n",
            "7/7 - 0s - loss: 3.2708 - mae: 3.2708 - val_loss: 3.0779 - val_mae: 3.0779\n",
            "Epoch 93/100\n",
            "7/7 - 0s - loss: 3.2505 - mae: 3.2505 - val_loss: 3.0497 - val_mae: 3.0497\n",
            "Epoch 94/100\n",
            "7/7 - 0s - loss: 3.2401 - mae: 3.2401 - val_loss: 3.0384 - val_mae: 3.0384\n",
            "Epoch 95/100\n",
            "7/7 - 0s - loss: 3.2250 - mae: 3.2250 - val_loss: 3.0374 - val_mae: 3.0374\n",
            "Epoch 96/100\n",
            "7/7 - 0s - loss: 3.2065 - mae: 3.2065 - val_loss: 3.0599 - val_mae: 3.0599\n",
            "Epoch 97/100\n",
            "7/7 - 0s - loss: 3.1862 - mae: 3.1862 - val_loss: 3.0531 - val_mae: 3.0531\n",
            "Epoch 98/100\n",
            "7/7 - 0s - loss: 3.1786 - mae: 3.1786 - val_loss: 2.9931 - val_mae: 2.9931\n",
            "Epoch 99/100\n",
            "7/7 - 0s - loss: 3.1578 - mae: 3.1578 - val_loss: 2.9908 - val_mae: 2.9908\n",
            "Epoch 100/100\n",
            "7/7 - 0s - loss: 3.1443 - mae: 3.1443 - val_loss: 2.9919 - val_mae: 2.9919\n",
            "CPU times: user 4.24 s, sys: 280 ms, total: 4.52 s\n",
            "Wall time: 4.38 s\n"
          ],
          "name": "stdout"
        }
      ]
    },
    {
      "cell_type": "code",
      "metadata": {
        "id": "jFWWkroWn1hE",
        "outputId": "a67e4627-9f89-43f7-98ec-69ec50a9b7c9",
        "colab": {
          "base_uri": "https://localhost:8080/",
          "height": 466
        }
      },
      "source": [
        "# display the model\n",
        "tf.keras.utils.plot_model(dnn_model, to_file='fd.png')"
      ],
      "execution_count": 13,
      "outputs": [
        {
          "output_type": "execute_result",
          "data": {
            "image/png": "[encoded data removed]",
            "text/plain": [
              "<IPython.core.display.Image object>"
            ]
          },
          "metadata": {
            "tags": []
          },
          "execution_count": 13
        }
      ]
    },
    {
      "cell_type": "code",
      "metadata": {
        "id": "qxEGOFmpn4j2",
        "outputId": "e107d7a2-feab-4e9a-c315-15f9760089f2",
        "colab": {
          "base_uri": "https://localhost:8080/",
          "height": 295
        }
      },
      "source": [
        "# plot the loss and accuracy of the model\n",
        "def plot_model(history, name):\n",
        "    #plt.plot(history.history['mae'])\n",
        "    #plt.plot(history.history['val_mae'])\n",
        "    #plt.title('mean abosulte error')\n",
        "    #plt.xlabel('epoch')\n",
        "   # plt.legend(['train', 'test'], loc='upper left')\n",
        "\n",
        "    plt.plot(history.history['loss'])\n",
        "    plt.plot(history.history['val_loss'])\n",
        "    plt.title('model loss and mean abosulte error')\n",
        "    plt.ylabel('mean abosulte error and loss')\n",
        "    plt.xlabel('epoch')\n",
        "    plt.legend(['train', 'val'], loc='upper left')\n",
        "    plt.savefig(name)\n",
        "    plt.show()\n",
        "\n",
        "plot_model(history, 'd.png')"
      ],
      "execution_count": 14,
      "outputs": [
        {
          "output_type": "display_data",
          "data": {
            "image/png": "[encoded data removed]",
            "text/plain": [
              "<Figure size 432x288 with 1 Axes>"
            ]
          },
          "metadata": {
            "tags": [],
            "needs_background": "light"
          }
        }
      ]
    },
    {
      "cell_type": "code",
      "metadata": {
        "id": "T91nGg33oCFr"
      },
      "source": [
        "# optimize the model by adding kernal initializer, changing activation function, changing optimizer, and adding dropout layer\n",
        "def build_optimized_model(norm):\n",
        "  model = keras.Sequential([\n",
        "      norm,\n",
        "      layers.Dense(64, activation='relu', kernel_initializer='uniform'),\n",
        "      layers.Dense(64, activation='relu', kernel_initializer='uniform'),\n",
        "      layers.Dropout(0.2),\n",
        "      layers.Dense(1)\n",
        "  ])\n",
        "\n",
        "  model.compile(optimizer='adam',\n",
        "              loss='mae',\n",
        "              metrics=['mae'])\n",
        "  return model"
      ],
      "execution_count": 15,
      "outputs": []
    },
    {
      "cell_type": "code",
      "metadata": {
        "id": "wey9KUPwoElQ"
      },
      "source": [
        "dnn_model_optimized = build_optimized_model(normalizer)"
      ],
      "execution_count": 16,
      "outputs": []
    },
    {
      "cell_type": "code",
      "metadata": {
        "id": "GYhZGVXxoGIM",
        "outputId": "239be098-99d5-4cf1-bf1f-716f12729830",
        "colab": {
          "base_uri": "https://localhost:8080/",
          "height": 1000
        }
      },
      "source": [
        "# run the optimized model\n",
        "%%time\n",
        "history_optimized = dnn_model_optimized.fit(\n",
        "    train_features, train_labels,\n",
        "    validation_data=(dev_features, dev_labels),\n",
        "    verbose=2, epochs=100)"
      ],
      "execution_count": 17,
      "outputs": [
        {
          "output_type": "stream",
          "text": [
            "Epoch 1/100\n",
            "7/7 - 0s - loss: 23.6537 - mae: 23.6537 - val_loss: 23.1412 - val_mae: 23.1412\n",
            "Epoch 2/100\n",
            "7/7 - 0s - loss: 23.4774 - mae: 23.4774 - val_loss: 22.9170 - val_mae: 22.9170\n",
            "Epoch 3/100\n",
            "7/7 - 0s - loss: 23.1933 - mae: 23.1933 - val_loss: 22.5615 - val_mae: 22.5615\n",
            "Epoch 4/100\n",
            "7/7 - 0s - loss: 22.7556 - mae: 22.7556 - val_loss: 22.0201 - val_mae: 22.0201\n",
            "Epoch 5/100\n",
            "7/7 - 0s - loss: 22.1027 - mae: 22.1027 - val_loss: 21.2200 - val_mae: 21.2200\n",
            "Epoch 6/100\n",
            "7/7 - 0s - loss: 21.1660 - mae: 21.1660 - val_loss: 20.0989 - val_mae: 20.0989\n",
            "Epoch 7/100\n",
            "7/7 - 0s - loss: 19.8565 - mae: 19.8565 - val_loss: 18.5918 - val_mae: 18.5918\n",
            "Epoch 8/100\n",
            "7/7 - 0s - loss: 18.0383 - mae: 18.0383 - val_loss: 16.6904 - val_mae: 16.6904\n",
            "Epoch 9/100\n",
            "7/7 - 0s - loss: 15.9316 - mae: 15.9316 - val_loss: 14.8015 - val_mae: 14.8015\n",
            "Epoch 10/100\n",
            "7/7 - 0s - loss: 13.9835 - mae: 13.9835 - val_loss: 12.9186 - val_mae: 12.9186\n",
            "Epoch 11/100\n",
            "7/7 - 0s - loss: 12.0495 - mae: 12.0495 - val_loss: 10.8562 - val_mae: 10.8562\n",
            "Epoch 12/100\n",
            "7/7 - 0s - loss: 9.8826 - mae: 9.8826 - val_loss: 8.4427 - val_mae: 8.4427\n",
            "Epoch 13/100\n",
            "7/7 - 0s - loss: 7.7747 - mae: 7.7747 - val_loss: 6.9780 - val_mae: 6.9780\n",
            "Epoch 14/100\n",
            "7/7 - 0s - loss: 7.3048 - mae: 7.3048 - val_loss: 6.4762 - val_mae: 6.4762\n",
            "Epoch 15/100\n",
            "7/7 - 0s - loss: 6.4682 - mae: 6.4682 - val_loss: 6.2077 - val_mae: 6.2077\n",
            "Epoch 16/100\n",
            "7/7 - 0s - loss: 6.1470 - mae: 6.1470 - val_loss: 5.8765 - val_mae: 5.8765\n",
            "Epoch 17/100\n",
            "7/7 - 0s - loss: 6.1031 - mae: 6.1031 - val_loss: 5.4810 - val_mae: 5.4810\n",
            "Epoch 18/100\n",
            "7/7 - 0s - loss: 5.5140 - mae: 5.5140 - val_loss: 5.0955 - val_mae: 5.0955\n",
            "Epoch 19/100\n",
            "7/7 - 0s - loss: 5.0867 - mae: 5.0867 - val_loss: 4.7903 - val_mae: 4.7903\n",
            "Epoch 20/100\n",
            "7/7 - 0s - loss: 4.8868 - mae: 4.8868 - val_loss: 4.5189 - val_mae: 4.5189\n",
            "Epoch 21/100\n",
            "7/7 - 0s - loss: 4.6122 - mae: 4.6122 - val_loss: 4.2800 - val_mae: 4.2800\n",
            "Epoch 22/100\n",
            "7/7 - 0s - loss: 4.4614 - mae: 4.4614 - val_loss: 4.1015 - val_mae: 4.1015\n",
            "Epoch 23/100\n",
            "7/7 - 0s - loss: 4.1199 - mae: 4.1199 - val_loss: 3.8930 - val_mae: 3.8930\n",
            "Epoch 24/100\n",
            "7/7 - 0s - loss: 3.9512 - mae: 3.9512 - val_loss: 3.7520 - val_mae: 3.7520\n",
            "Epoch 25/100\n",
            "7/7 - 0s - loss: 3.8445 - mae: 3.8445 - val_loss: 3.6359 - val_mae: 3.6359\n",
            "Epoch 26/100\n",
            "7/7 - 0s - loss: 3.8194 - mae: 3.8194 - val_loss: 3.5747 - val_mae: 3.5747\n",
            "Epoch 27/100\n",
            "7/7 - 0s - loss: 3.7213 - mae: 3.7213 - val_loss: 3.5068 - val_mae: 3.5068\n",
            "Epoch 28/100\n",
            "7/7 - 0s - loss: 3.6250 - mae: 3.6250 - val_loss: 3.3889 - val_mae: 3.3889\n",
            "Epoch 29/100\n",
            "7/7 - 0s - loss: 3.7484 - mae: 3.7484 - val_loss: 3.3023 - val_mae: 3.3023\n",
            "Epoch 30/100\n",
            "7/7 - 0s - loss: 3.5602 - mae: 3.5602 - val_loss: 3.2293 - val_mae: 3.2293\n",
            "Epoch 31/100\n",
            "7/7 - 0s - loss: 3.4965 - mae: 3.4965 - val_loss: 3.2331 - val_mae: 3.2331\n",
            "Epoch 32/100\n",
            "7/7 - 0s - loss: 3.4253 - mae: 3.4253 - val_loss: 3.1210 - val_mae: 3.1210\n",
            "Epoch 33/100\n",
            "7/7 - 0s - loss: 3.4314 - mae: 3.4314 - val_loss: 3.0107 - val_mae: 3.0107\n",
            "Epoch 34/100\n",
            "7/7 - 0s - loss: 3.4213 - mae: 3.4213 - val_loss: 2.9562 - val_mae: 2.9562\n",
            "Epoch 35/100\n",
            "7/7 - 0s - loss: 3.2565 - mae: 3.2565 - val_loss: 3.0084 - val_mae: 3.0084\n",
            "Epoch 36/100\n",
            "7/7 - 0s - loss: 3.2411 - mae: 3.2411 - val_loss: 2.8507 - val_mae: 2.8507\n",
            "Epoch 37/100\n",
            "7/7 - 0s - loss: 3.2835 - mae: 3.2835 - val_loss: 2.7419 - val_mae: 2.7419\n",
            "Epoch 38/100\n",
            "7/7 - 0s - loss: 3.2204 - mae: 3.2204 - val_loss: 2.6722 - val_mae: 2.6722\n",
            "Epoch 39/100\n",
            "7/7 - 0s - loss: 3.0395 - mae: 3.0395 - val_loss: 2.6557 - val_mae: 2.6557\n",
            "Epoch 40/100\n",
            "7/7 - 0s - loss: 2.8647 - mae: 2.8647 - val_loss: 2.5802 - val_mae: 2.5802\n",
            "Epoch 41/100\n",
            "7/7 - 0s - loss: 2.7942 - mae: 2.7942 - val_loss: 2.5049 - val_mae: 2.5049\n",
            "Epoch 42/100\n",
            "7/7 - 0s - loss: 3.0553 - mae: 3.0553 - val_loss: 2.5208 - val_mae: 2.5208\n",
            "Epoch 43/100\n",
            "7/7 - 0s - loss: 3.1804 - mae: 3.1804 - val_loss: 2.4705 - val_mae: 2.4705\n",
            "Epoch 44/100\n",
            "7/7 - 0s - loss: 3.0155 - mae: 3.0155 - val_loss: 2.4670 - val_mae: 2.4670\n",
            "Epoch 45/100\n",
            "7/7 - 0s - loss: 2.7466 - mae: 2.7466 - val_loss: 2.3987 - val_mae: 2.3987\n",
            "Epoch 46/100\n",
            "7/7 - 0s - loss: 2.9155 - mae: 2.9155 - val_loss: 2.3441 - val_mae: 2.3441\n",
            "Epoch 47/100\n",
            "7/7 - 0s - loss: 3.0125 - mae: 3.0125 - val_loss: 2.2827 - val_mae: 2.2827\n",
            "Epoch 48/100\n",
            "7/7 - 0s - loss: 2.7981 - mae: 2.7981 - val_loss: 2.2060 - val_mae: 2.2060\n",
            "Epoch 49/100\n",
            "7/7 - 0s - loss: 2.7367 - mae: 2.7367 - val_loss: 2.1800 - val_mae: 2.1800\n",
            "Epoch 50/100\n",
            "7/7 - 0s - loss: 2.8146 - mae: 2.8146 - val_loss: 2.1959 - val_mae: 2.1959\n",
            "Epoch 51/100\n",
            "7/7 - 0s - loss: 2.6721 - mae: 2.6721 - val_loss: 2.2021 - val_mae: 2.2021\n",
            "Epoch 52/100\n",
            "7/7 - 0s - loss: 2.8068 - mae: 2.8068 - val_loss: 2.2300 - val_mae: 2.2300\n",
            "Epoch 53/100\n",
            "7/7 - 0s - loss: 2.7170 - mae: 2.7170 - val_loss: 2.1774 - val_mae: 2.1774\n",
            "Epoch 54/100\n",
            "7/7 - 0s - loss: 2.7258 - mae: 2.7258 - val_loss: 2.1454 - val_mae: 2.1454\n",
            "Epoch 55/100\n",
            "7/7 - 0s - loss: 2.5642 - mae: 2.5642 - val_loss: 2.1013 - val_mae: 2.1013\n",
            "Epoch 56/100\n",
            "7/7 - 0s - loss: 2.6251 - mae: 2.6251 - val_loss: 2.0972 - val_mae: 2.0972\n",
            "Epoch 57/100\n",
            "7/7 - 0s - loss: 2.5362 - mae: 2.5362 - val_loss: 2.1297 - val_mae: 2.1297\n",
            "Epoch 58/100\n",
            "7/7 - 0s - loss: 2.6123 - mae: 2.6123 - val_loss: 2.1693 - val_mae: 2.1693\n",
            "Epoch 59/100\n",
            "7/7 - 0s - loss: 2.5857 - mae: 2.5857 - val_loss: 2.0488 - val_mae: 2.0488\n",
            "Epoch 60/100\n",
            "7/7 - 0s - loss: 2.7248 - mae: 2.7248 - val_loss: 2.0223 - val_mae: 2.0223\n",
            "Epoch 61/100\n",
            "7/7 - 0s - loss: 2.7202 - mae: 2.7202 - val_loss: 1.9675 - val_mae: 1.9675\n",
            "Epoch 62/100\n",
            "7/7 - 0s - loss: 2.5913 - mae: 2.5913 - val_loss: 1.9934 - val_mae: 1.9934\n",
            "Epoch 63/100\n",
            "7/7 - 0s - loss: 2.6670 - mae: 2.6670 - val_loss: 1.9733 - val_mae: 1.9733\n",
            "Epoch 64/100\n",
            "7/7 - 0s - loss: 2.7073 - mae: 2.7073 - val_loss: 1.9731 - val_mae: 1.9731\n",
            "Epoch 65/100\n",
            "7/7 - 0s - loss: 2.6804 - mae: 2.6804 - val_loss: 1.9696 - val_mae: 1.9696\n",
            "Epoch 66/100\n",
            "7/7 - 0s - loss: 2.8374 - mae: 2.8374 - val_loss: 2.0676 - val_mae: 2.0676\n",
            "Epoch 67/100\n",
            "7/7 - 0s - loss: 2.6412 - mae: 2.6412 - val_loss: 2.0242 - val_mae: 2.0242\n",
            "Epoch 68/100\n",
            "7/7 - 0s - loss: 2.5479 - mae: 2.5479 - val_loss: 1.9634 - val_mae: 1.9634\n",
            "Epoch 69/100\n",
            "7/7 - 0s - loss: 2.7832 - mae: 2.7832 - val_loss: 1.9955 - val_mae: 1.9955\n",
            "Epoch 70/100\n",
            "7/7 - 0s - loss: 2.6661 - mae: 2.6661 - val_loss: 1.9998 - val_mae: 1.9998\n",
            "Epoch 71/100\n",
            "7/7 - 0s - loss: 2.4880 - mae: 2.4880 - val_loss: 2.0302 - val_mae: 2.0302\n",
            "Epoch 72/100\n",
            "7/7 - 0s - loss: 2.4763 - mae: 2.4763 - val_loss: 2.0275 - val_mae: 2.0275\n",
            "Epoch 73/100\n",
            "7/7 - 0s - loss: 2.6415 - mae: 2.6415 - val_loss: 2.0489 - val_mae: 2.0489\n",
            "Epoch 74/100\n",
            "7/7 - 0s - loss: 2.5734 - mae: 2.5734 - val_loss: 1.9620 - val_mae: 1.9620\n",
            "Epoch 75/100\n",
            "7/7 - 0s - loss: 2.6026 - mae: 2.6026 - val_loss: 1.9126 - val_mae: 1.9126\n",
            "Epoch 76/100\n",
            "7/7 - 0s - loss: 2.4630 - mae: 2.4630 - val_loss: 1.8848 - val_mae: 1.8848\n",
            "Epoch 77/100\n",
            "7/7 - 0s - loss: 2.6299 - mae: 2.6299 - val_loss: 1.8884 - val_mae: 1.8884\n",
            "Epoch 78/100\n",
            "7/7 - 0s - loss: 2.6615 - mae: 2.6615 - val_loss: 1.9595 - val_mae: 1.9595\n",
            "Epoch 79/100\n",
            "7/7 - 0s - loss: 2.4957 - mae: 2.4957 - val_loss: 1.9571 - val_mae: 1.9571\n",
            "Epoch 80/100\n",
            "7/7 - 0s - loss: 2.6878 - mae: 2.6878 - val_loss: 1.8858 - val_mae: 1.8858\n",
            "Epoch 81/100\n",
            "7/7 - 0s - loss: 2.6361 - mae: 2.6361 - val_loss: 1.9002 - val_mae: 1.9002\n",
            "Epoch 82/100\n",
            "7/7 - 0s - loss: 2.7148 - mae: 2.7148 - val_loss: 1.8618 - val_mae: 1.8618\n",
            "Epoch 83/100\n",
            "7/7 - 0s - loss: 2.5846 - mae: 2.5846 - val_loss: 1.9793 - val_mae: 1.9793\n",
            "Epoch 84/100\n",
            "7/7 - 0s - loss: 2.6073 - mae: 2.6073 - val_loss: 1.9300 - val_mae: 1.9300\n",
            "Epoch 85/100\n",
            "7/7 - 0s - loss: 2.6204 - mae: 2.6204 - val_loss: 1.9075 - val_mae: 1.9075\n",
            "Epoch 86/100\n",
            "7/7 - 0s - loss: 2.2513 - mae: 2.2513 - val_loss: 1.9118 - val_mae: 1.9118\n",
            "Epoch 87/100\n",
            "7/7 - 0s - loss: 2.5087 - mae: 2.5087 - val_loss: 1.9101 - val_mae: 1.9101\n",
            "Epoch 88/100\n",
            "7/7 - 0s - loss: 2.5688 - mae: 2.5688 - val_loss: 1.9516 - val_mae: 1.9516\n",
            "Epoch 89/100\n",
            "7/7 - 0s - loss: 2.4530 - mae: 2.4530 - val_loss: 2.0680 - val_mae: 2.0680\n",
            "Epoch 90/100\n",
            "7/7 - 0s - loss: 2.3521 - mae: 2.3521 - val_loss: 1.9878 - val_mae: 1.9878\n",
            "Epoch 91/100\n",
            "7/7 - 0s - loss: 2.3829 - mae: 2.3829 - val_loss: 1.9050 - val_mae: 1.9050\n",
            "Epoch 92/100\n",
            "7/7 - 0s - loss: 2.4885 - mae: 2.4885 - val_loss: 1.9214 - val_mae: 1.9214\n",
            "Epoch 93/100\n",
            "7/7 - 0s - loss: 2.6893 - mae: 2.6893 - val_loss: 1.8998 - val_mae: 1.8998\n",
            "Epoch 94/100\n",
            "7/7 - 0s - loss: 2.5822 - mae: 2.5822 - val_loss: 1.9407 - val_mae: 1.9407\n",
            "Epoch 95/100\n",
            "7/7 - 0s - loss: 2.4896 - mae: 2.4896 - val_loss: 1.9705 - val_mae: 1.9705\n",
            "Epoch 96/100\n",
            "7/7 - 0s - loss: 2.4187 - mae: 2.4187 - val_loss: 1.9067 - val_mae: 1.9067\n",
            "Epoch 97/100\n",
            "7/7 - 0s - loss: 2.4319 - mae: 2.4319 - val_loss: 1.8680 - val_mae: 1.8680\n",
            "Epoch 98/100\n",
            "7/7 - 0s - loss: 2.4315 - mae: 2.4315 - val_loss: 1.9010 - val_mae: 1.9010\n",
            "Epoch 99/100\n",
            "7/7 - 0s - loss: 2.4875 - mae: 2.4875 - val_loss: 1.8765 - val_mae: 1.8765\n",
            "Epoch 100/100\n",
            "7/7 - 0s - loss: 2.4815 - mae: 2.4815 - val_loss: 1.8708 - val_mae: 1.8708\n",
            "CPU times: user 4.57 s, sys: 303 ms, total: 4.87 s\n",
            "Wall time: 4.65 s\n"
          ],
          "name": "stdout"
        }
      ]
    },
    {
      "cell_type": "code",
      "metadata": {
        "id": "HmUdad-joHTw",
        "outputId": "25203846-896e-423d-f352-ce335fa5f862",
        "colab": {
          "base_uri": "https://localhost:8080/",
          "height": 295
        }
      },
      "source": [
        "# plot the optimized model\n",
        "plot_model(history_optimized, '.png')"
      ],
      "execution_count": 18,
      "outputs": [
        {
          "output_type": "display_data",
          "data": {
            "image/png": "[encoded data removed]",
            "text/plain": [
              "<Figure size 432x288 with 1 Axes>"
            ]
          },
          "metadata": {
            "tags": [],
            "needs_background": "light"
          }
        }
      ]
    },
    {
      "cell_type": "code",
      "metadata": {
        "id": "G3tzk590oI9X",
        "outputId": "1f959c6a-babb-4874-d7ef-02702def3396",
        "colab": {
          "base_uri": "https://localhost:8080/",
          "height": 564
        }
      },
      "source": [
        "# display the optimized model\n",
        "tf.keras.utils.plot_model(dnn_model_optimized , to_file='fe.png')"
      ],
      "execution_count": 19,
      "outputs": [
        {
          "output_type": "execute_result",
          "data": {
            "image/png": "[encoded data removed]",
            "text/plain": [
              "<IPython.core.display.Image object>"
            ]
          },
          "metadata": {
            "tags": []
          },
          "execution_count": 19
        }
      ]
    },
    {
      "cell_type": "code",
      "metadata": {
        "id": "MY8cpStVoLSX"
      },
      "source": [
        ""
      ],
      "execution_count": 19,
      "outputs": []
    }
  ]
}